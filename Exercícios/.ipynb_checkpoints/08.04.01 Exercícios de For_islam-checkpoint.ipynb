{
 "cells": [
  {
   "cell_type": "markdown",
   "metadata": {},
   "source": [
    "# Exercícios\n",
    "\n",
    "## 1. Criando um Registro de Hóspedes\n",
    "\n",
    "Digamos que você está criando o sistema para registrar a chegada de hóspedes em um hotel. No hotel, os hóspedes podem ter quartos com 1, 2, 3 e 4 pessoas. Seu sistema deve conseguir:\n",
    "\n",
    "1. Identificar quantas pessoas o hóspede que acabou de chegar vai ter no quarto (perguntando por meio de input)\n",
    "2. De acordo com a quantidade de pessoas do hóspede, ele deve fazer um for para perguntar o cpf e o nome de cada pessoa, a fim de registrá-la no quarto (2 inputs para cada pessoa, 1 para o cpf e outro para o nome)\n",
    "3. O seu programa então deve gerar uma lista com todas as pessoas que ficarão no quarto em que cada item dessa lista é o nome da pessoa e o cpf da pessoa, assim:"
   ]
  },
  {
   "cell_type": "raw",
   "metadata": {},
   "source": [
    "quarto = [\n",
    "    ['João', 'cpf:00000000000'],\n",
    "    ['Julia', 'cpf:11111111111'],\n",
    "    ['Marcus', 'cpf:22222222222'],\n",
    "    ['Maria', 'cpf:33333333333'],\n",
    "]"
   ]
  },
  {
   "cell_type": "markdown",
   "metadata": {},
   "source": [
    "- Para simplificar, não vamos nos preocupar com possibilidades de \"tentar colocar mais de 1 hóspede, digitar o cpf errado, etc. Nosso objetivo é treinar a criação de uma rotina de cadastro"
   ]
  },
  {
   "cell_type": "code",
   "execution_count": 7,
   "metadata": {},
   "outputs": [
    {
     "name": "stdout",
     "output_type": "stream",
     "text": [
      "Quarto para quantas pessoas? 1\n",
      "Qual o nome da pessoa? islam\n",
      "Qual o CPF da pessoa? 004\n",
      "[['islam', 'cpf: 004']]\n"
     ]
    }
   ],
   "source": [
    "#seu código aqui\n",
    "n = int(input('Quarto para quantas pessoas? '))\n",
    "quarto = []\n",
    "for i in range(n):\n",
    "    nome = input('Qual o nome da pessoa? ')\n",
    "    cpf = input('Qual o CPF da pessoa? ')\n",
    "    cpf = f'cpf: {cpf}'\n",
    "    quarto.append([nome,cpf])\n",
    "    \n",
    "print(quarto)\n",
    "    \n"
   ]
  },
  {
   "cell_type": "markdown",
   "metadata": {},
   "source": [
    "## 2. Análise de Vendas\n",
    "\n",
    "Nesse exercício vamos fazer uma \"análise simples\" de atingimento de Meta.\n",
    "\n",
    "Temos uma lista com os vendedores e os valores de vendas e queremos identificar (printar) quais os vendedores que bateram a meta e qual foi o valor que eles venderam."
   ]
  },
  {
   "cell_type": "code",
   "execution_count": 16,
   "metadata": {},
   "outputs": [
    {
     "name": "stdout",
     "output_type": "stream",
     "text": [
      " João bateu a meta vendendo R$ 15000\n",
      " Julia bateu a meta vendendo R$ 27000\n",
      " Ana bateu a meta vendendo R$ 10300\n"
     ]
    }
   ],
   "source": [
    "meta = 10000\n",
    "vendas = [\n",
    "    ['João', 15000],\n",
    "    ['Julia', 27000],\n",
    "    ['Marcus', 9900],\n",
    "    ['Maria', 3750],\n",
    "    ['Ana', 10300],\n",
    "    ['Alon', 7870],\n",
    "]\n",
    "#seu código aqui\n",
    "for venda in vendas:\n",
    "    if venda[1] >= meta:\n",
    "        print(f' {venda[0]} bateu a meta vendendo R$ {venda[1]}')\n",
    "   "
   ]
  },
  {
   "cell_type": "markdown",
   "metadata": {},
   "source": [
    "## 3. Comparação com Ano Anterior\n",
    "\n",
    "Digamos que você está analisando as vendas de produtos de um ecommerce e quer identificar quais produtos tiveram no ano de 2020 mais vendas do que no ano de 2019, para reportar isso para a diretoria.\n",
    "\n",
    "Sua resposta pode ser um print de cada produto, qual foi a venda de 2019, a venda de 2020 e o % de crescimento de 2020 para 2019.\n",
    "\n",
    "Lembrando, para calcular o % de crescimento de um produto de um ano para o outro, podemos fazer: (vendas_produto2020/vendas_produto2019 - 1)\n",
    "\n",
    "Dica: lembre do enumerate, ele pode facilitar seu \"for\""
   ]
  },
  {
   "cell_type": "code",
   "execution_count": 33,
   "metadata": {},
   "outputs": [
    {
     "name": "stdout",
     "output_type": "stream",
     "text": [
      " o produto iphone teve venda em 2019 de 558147 e em 2020 de 951642 tendo uma taxa de crescimento de 70.50%\n",
      "\n",
      " o produto tv teve venda em 2019 de 405252 e em 2020 de 787604 tendo uma taxa de crescimento de 94.35%\n",
      "\n",
      " o produto máquina de café teve venda em 2019 de 718654 e em 2020 de 867660 tendo uma taxa de crescimento de 20.73%\n",
      "\n",
      " o produto notebook dell teve venda em 2019 de 422760 e em 2020 de 694913 tendo uma taxa de crescimento de 64.38%\n",
      "\n",
      " o produto notebook hp teve venda em 2019 de 154753 e em 2020 de 539704 tendo uma taxa de crescimento de 248.75%\n",
      "\n",
      " o produto microsoft surface teve venda em 2019 de 438508 e em 2020 de 667179 tendo uma taxa de crescimento de 52.15%\n",
      "\n",
      " o produto webcam teve venda em 2019 de 237467 e em 2020 de 295633 tendo uma taxa de crescimento de 24.49%\n",
      "\n",
      " o produto caixa de som teve venda em 2019 de 489705 e em 2020 de 725316 tendo uma taxa de crescimento de 48.11%\n",
      "\n",
      " o produto microfone teve venda em 2019 de 328311 e em 2020 de 644622 tendo uma taxa de crescimento de 96.34%\n",
      "\n",
      " o produto câmera canon teve venda em 2019 de 591120 e em 2020 de 994303 tendo uma taxa de crescimento de 68.21%\n",
      "\n"
     ]
    }
   ],
   "source": [
    "produtos = ['iphone', 'galaxy', 'ipad', 'tv', 'máquina de café', 'kindle', 'geladeira', 'adega', 'notebook dell', 'notebook hp', 'notebook asus', 'microsoft surface', 'webcam', 'caixa de som', 'microfone', 'câmera canon']\n",
    "vendas2019 = [558147,712350,573823,405252,718654,531580,973139,892292,422760,154753,887061,438508,237467,489705,328311,591120]\n",
    "vendas2020 = [951642,244295,26964,787604,867660,78830,710331,646016,694913,539704,324831,667179,295633,725316,644622,994303]\n",
    "#seu código aqui\n",
    "\n",
    "for i, produto in enumerate(produtos):\n",
    "    if vendas2020[i] > vendas2019[i]:\n",
    "        print(f' o produto {produto} teve venda em 2019 de {vendas2019[i]} e em 2020 de {vendas2020[i]} tendo uma taxa de crescimento de {(vendas2020[i]/vendas2019[i])- 1:.2%}\\n')"
   ]
  }
 ],
 "metadata": {
  "kernelspec": {
   "display_name": "Python 3 (ipykernel)",
   "language": "python",
   "name": "python3"
  },
  "language_info": {
   "codemirror_mode": {
    "name": "ipython",
    "version": 3
   },
   "file_extension": ".py",
   "mimetype": "text/x-python",
   "name": "python",
   "nbconvert_exporter": "python",
   "pygments_lexer": "ipython3",
   "version": "3.9.7"
  }
 },
 "nbformat": 4,
 "nbformat_minor": 4
}
