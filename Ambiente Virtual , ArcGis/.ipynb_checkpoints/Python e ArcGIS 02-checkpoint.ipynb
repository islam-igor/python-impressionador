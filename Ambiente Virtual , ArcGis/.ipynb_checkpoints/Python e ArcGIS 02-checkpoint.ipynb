{
 "cells": [
  {
   "cell_type": "markdown",
   "metadata": {},
   "source": [
    "# Vamos usar a API do ArcGIS\n",
    "\n",
    "- Links Úteis: \n",
    "    - Documentação: https://developers.arcgis.com/python/\n",
    "    - Guias: https://developers.arcgis.com/python/guide/install-and-set-up/"
   ]
  },
  {
   "cell_type": "code",
   "execution_count": 5,
   "metadata": {},
   "outputs": [
    {
     "ename": "NameError",
     "evalue": "name 'version' is not defined",
     "output_type": "error",
     "traceback": [
      "\u001b[1;31m---------------------------------------------------------------------------\u001b[0m",
      "\u001b[1;31mNameError\u001b[0m                                 Traceback (most recent call last)",
      "\u001b[1;32m<ipython-input-5-605b5d1778ad>\u001b[0m in \u001b[0;36m<module>\u001b[1;34m\u001b[0m\n\u001b[1;32m----> 1\u001b[1;33m \u001b[0mversion\u001b[0m\u001b[1;33m\u001b[0m\u001b[1;33m\u001b[0m\u001b[0m\n\u001b[0m",
      "\u001b[1;31mNameError\u001b[0m: name 'version' is not defined"
     ]
    }
   ],
   "source": []
  },
  {
   "cell_type": "code",
   "execution_count": 3,
   "metadata": {},
   "outputs": [
    {
     "ename": "SyntaxError",
     "evalue": "future feature annotations is not defined (functions.py, line 5)",
     "output_type": "error",
     "traceback": [
      "Traceback \u001b[1;36m(most recent call last)\u001b[0m:\n",
      "  File \u001b[0;32m\"C:\\Users\\User\\anaconda3\\envs\\arcgispython\\lib\\site-packages\\IPython\\core\\interactiveshell.py\"\u001b[0m, line \u001b[0;32m3343\u001b[0m, in \u001b[0;35mrun_code\u001b[0m\n    exec(code_obj, self.user_global_ns, self.user_ns)\n",
      "  File \u001b[0;32m\"<ipython-input-3-b02f9fc67eac>\"\u001b[0m, line \u001b[0;32m1\u001b[0m, in \u001b[0;35m<module>\u001b[0m\n    from arcgis.gis import GIS\n",
      "  File \u001b[0;32m\"C:\\Users\\User\\anaconda3\\envs\\arcgispython\\lib\\site-packages\\arcgis\\__init__.py\"\u001b[0m, line \u001b[0;32m7\u001b[0m, in \u001b[0;35m<module>\u001b[0m\n    from arcgis import features\n",
      "  File \u001b[0;32m\"C:\\Users\\User\\anaconda3\\envs\\arcgispython\\lib\\site-packages\\arcgis\\features\\__init__.py\"\u001b[0m, line \u001b[0;32m26\u001b[0m, in \u001b[0;35m<module>\u001b[0m\n    from .feature import Feature, FeatureSet, FeatureCollection\n",
      "  File \u001b[0;32m\"C:\\Users\\User\\anaconda3\\envs\\arcgispython\\lib\\site-packages\\arcgis\\features\\feature.py\"\u001b[0m, line \u001b[0;32m19\u001b[0m, in \u001b[0;35m<module>\u001b[0m\n    from arcgis.geometry import (\n",
      "\u001b[1;36m  File \u001b[1;32m\"C:\\Users\\User\\anaconda3\\envs\\arcgispython\\lib\\site-packages\\arcgis\\geometry\\__init__.py\"\u001b[1;36m, line \u001b[1;32m82\u001b[1;36m, in \u001b[1;35m<module>\u001b[1;36m\u001b[0m\n\u001b[1;33m    from .functions import *\u001b[0m\n",
      "\u001b[1;36m  File \u001b[1;32m\"C:\\Users\\User\\anaconda3\\envs\\arcgispython\\lib\\site-packages\\arcgis\\geometry\\functions.py\"\u001b[1;36m, line \u001b[1;32m5\u001b[0m\n\u001b[1;33m    from __future__ import annotations\u001b[0m\n\u001b[1;37m                                      ^\u001b[0m\n\u001b[1;31mSyntaxError\u001b[0m\u001b[1;31m:\u001b[0m future feature annotations is not defined\n"
     ]
    }
   ],
   "source": [
    "from arcgis.gis import GIS\n",
    "\n",
    "#gis = GIS()\n",
    "\n",
    "#user = gis.users.get('rxsingh')\n",
    "#display(user)"
   ]
  },
  {
   "cell_type": "code",
   "execution_count": null,
   "metadata": {},
   "outputs": [],
   "source": []
  },
  {
   "cell_type": "code",
   "execution_count": null,
   "metadata": {},
   "outputs": [],
   "source": []
  },
  {
   "cell_type": "code",
   "execution_count": null,
   "metadata": {},
   "outputs": [],
   "source": []
  }
 ],
 "metadata": {
  "kernelspec": {
   "display_name": "Python 3",
   "language": "python",
   "name": "python3"
  },
  "language_info": {
   "codemirror_mode": {
    "name": "ipython",
    "version": 3
   },
   "file_extension": ".py",
   "mimetype": "text/x-python",
   "name": "python",
   "nbconvert_exporter": "python",
   "pygments_lexer": "ipython3",
   "version": "3.6.13"
  }
 },
 "nbformat": 4,
 "nbformat_minor": 4
}
