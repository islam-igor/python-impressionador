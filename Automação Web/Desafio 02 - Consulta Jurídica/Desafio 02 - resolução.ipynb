{
 "cells": [
  {
   "cell_type": "code",
   "execution_count": 108,
   "id": "4430a387",
   "metadata": {},
   "outputs": [
    {
     "name": "stdout",
     "output_type": "stream",
     "text": [
      "\n"
     ]
    },
    {
     "name": "stderr",
     "output_type": "stream",
     "text": [
      "[WDM] - ====== WebDriver manager ======\n",
      "[WDM] - Current google-chrome version is 103.0.5060\n",
      "[WDM] - Get LATEST chromedriver version for 103.0.5060 google-chrome\n",
      "[WDM] - Driver [C:\\Users\\islam\\.wdm\\drivers\\chromedriver\\win32\\103.0.5060.53\\chromedriver.exe] found in cache\n"
     ]
    }
   ],
   "source": [
    "# criar o navegador\n",
    "from selenium import webdriver\n",
    "from selenium.webdriver.chrome.service import Service\n",
    "from webdriver_manager.chrome import ChromeDriverManager\n",
    "from selenium.webdriver.common.by import By\n",
    "import time\n",
    "\n",
    "servico = Service(ChromeDriverManager().install())\n",
    "navegador = webdriver.Chrome(service=servico)"
   ]
  },
  {
   "cell_type": "code",
   "execution_count": 109,
   "id": "61253c5f",
   "metadata": {},
   "outputs": [],
   "source": [
    "# abrir a página index (entrar no site da busca jurídica)\n",
    "import os\n",
    "import time\n",
    "\n",
    "caminho = os.getcwd()\n",
    "arquivo = caminho + r\"\\index.html\"\n",
    "navegador.get(arquivo)"
   ]
  },
  {
   "cell_type": "code",
   "execution_count": 110,
   "id": "7263b561",
   "metadata": {},
   "outputs": [
    {
     "data": {
      "text/html": [
       "<div>\n",
       "<style scoped>\n",
       "    .dataframe tbody tr th:only-of-type {\n",
       "        vertical-align: middle;\n",
       "    }\n",
       "\n",
       "    .dataframe tbody tr th {\n",
       "        vertical-align: top;\n",
       "    }\n",
       "\n",
       "    .dataframe thead th {\n",
       "        text-align: right;\n",
       "    }\n",
       "</style>\n",
       "<table border=\"1\" class=\"dataframe\">\n",
       "  <thead>\n",
       "    <tr style=\"text-align: right;\">\n",
       "      <th></th>\n",
       "      <th>Nome</th>\n",
       "      <th>Advogado</th>\n",
       "      <th>Processo</th>\n",
       "      <th>Cidade</th>\n",
       "      <th>Status</th>\n",
       "    </tr>\n",
       "  </thead>\n",
       "  <tbody>\n",
       "    <tr>\n",
       "      <th>0</th>\n",
       "      <td>Lira</td>\n",
       "      <td>Alon Lawyer</td>\n",
       "      <td>PC6592</td>\n",
       "      <td>Distrito Federal</td>\n",
       "      <td>NaN</td>\n",
       "    </tr>\n",
       "    <tr>\n",
       "      <th>1</th>\n",
       "      <td>João</td>\n",
       "      <td>Lawyer Alon</td>\n",
       "      <td>EB3792</td>\n",
       "      <td>Rio de Janeiro</td>\n",
       "      <td>NaN</td>\n",
       "    </tr>\n",
       "    <tr>\n",
       "      <th>2</th>\n",
       "      <td>Amanda</td>\n",
       "      <td>Amanda mesmo</td>\n",
       "      <td>MM1043</td>\n",
       "      <td>Rio de Janeiro</td>\n",
       "      <td>NaN</td>\n",
       "    </tr>\n",
       "    <tr>\n",
       "      <th>3</th>\n",
       "      <td>Carol</td>\n",
       "      <td>Amanda</td>\n",
       "      <td>PC5197</td>\n",
       "      <td>São Paulo</td>\n",
       "      <td>NaN</td>\n",
       "    </tr>\n",
       "  </tbody>\n",
       "</table>\n",
       "</div>"
      ],
      "text/plain": [
       "     Nome      Advogado Processo            Cidade  Status\n",
       "0    Lira   Alon Lawyer   PC6592  Distrito Federal     NaN\n",
       "1    João   Lawyer Alon   EB3792    Rio de Janeiro     NaN\n",
       "2  Amanda  Amanda mesmo   MM1043    Rio de Janeiro     NaN\n",
       "3   Carol        Amanda   PC5197         São Paulo     NaN"
      ]
     },
     "execution_count": 110,
     "metadata": {},
     "output_type": "execute_result"
    }
   ],
   "source": [
    "import pandas as pd\n",
    "\n",
    "tabela = pd.read_excel('Processos.xlsx')\n",
    "tabela\n"
   ]
  },
  {
   "cell_type": "code",
   "execution_count": 111,
   "id": "0f2b18f2",
   "metadata": {},
   "outputs": [],
   "source": [
    "# Escolhendo o Estado\n",
    "from selenium.webdriver import ActionChains\n",
    "\n",
    "menu = navegador.find_element(By.XPATH, '/html/body/div/div/button')  # menu onde queremos deixar o mouse em cima\n",
    "\n",
    "item_df = navegador.find_element(By.XPATH, '/html/body/div/div/div/a[1]')\n",
    "item_rj = navegador.find_element(By.XPATH, '/html/body/div/div/div/a[2]') \n",
    "item_sp = navegador.find_element(By.XPATH, '/html/body/div/div/div/a[3]')\n",
    "\n",
    "lista = [item_df, item_rj, item_sp]\n",
    "for item in lista:\n",
    "    ActionChains(navegador).move_to_element(menu).perform()\n",
    "    item.click()\n",
    "    \n",
    "main_aba = navegador.window_handles[0]\n",
    "sp_aba = navegador.window_handles[1]\n",
    "rj_aba = navegador.window_handles[2]\n",
    "df_aba = navegador.window_handles[3]"
   ]
  },
  {
   "cell_type": "code",
   "execution_count": 120,
   "id": "0eaf9693",
   "metadata": {},
   "outputs": [
    {
     "name": "stdout",
     "output_type": "stream",
     "text": [
      "Distrito Federal\n",
      "Processo foi encontrado!\n",
      "Rio de Janeiro\n",
      "Processo foi encontrado!\n",
      "Rio de Janeiro\n",
      "Processo foi encontrado!\n",
      "São Paulo\n",
      "Processo não Encontrado\n"
     ]
    }
   ],
   "source": [
    "for linha in tabela.index:\n",
    "    print(tabela.loc[linha, 'Cidade'])\n",
    "    if 'Distrito Federal' in tabela.loc[linha, 'Cidade']:\n",
    "        navegador.switch_to.window(df_aba)\n",
    "        navegador.find_element(By.ID, 'nome').send_keys(tabela.loc[linha, 'Nome'])\n",
    "        navegador.find_element(By.ID, 'advogado').send_keys(tabela.loc[linha, 'Advogado'])\n",
    "        navegador.find_element(By.ID, 'numero').send_keys(tabela.loc[linha, 'Processo'])\n",
    "        navegador.find_element(By.CLASS_NAME, 'registerbtn').click()\n",
    "        alerta = navegador.switch_to.alert\n",
    "        alerta.accept()\n",
    "        while True:\n",
    "            try:\n",
    "                alerta = navegador.switch_to.alert\n",
    "                break\n",
    "            except:\n",
    "                time.sleep(1)\n",
    "        texto_alerta = alerta.text\n",
    "        if \"Processo encontrado com sucesso\" in texto_alerta:\n",
    "            alerta.accept()\n",
    "            print('Processo foi encontrado!')\n",
    "        else:\n",
    "            alerta.accept()\n",
    "            print('Processo não Encontrado')\n",
    "        navegador.refresh()\n",
    "    if 'Rio de Janeiro' in tabela.loc[linha, 'Cidade']:\n",
    "        navegador.switch_to.window(rj_aba)\n",
    "        navegador.find_element(By.ID, 'nome').send_keys(tabela.loc[linha, 'Nome'])\n",
    "        navegador.find_element(By.ID, 'advogado').send_keys(tabela.loc[linha, 'Advogado'])\n",
    "        navegador.find_element(By.ID, 'numero').send_keys(tabela.loc[linha, 'Processo'])\n",
    "        navegador.find_element(By.CLASS_NAME, 'registerbtn').click()\n",
    "        alerta = navegador.switch_to.alert\n",
    "        alerta.accept()\n",
    "        while True:\n",
    "            try:\n",
    "                alerta = navegador.switch_to.alert\n",
    "                break\n",
    "            except:\n",
    "                time.sleep(1)\n",
    "        texto_alerta = alerta.text\n",
    "        if \"Processo encontrado com sucesso\" in texto_alerta:\n",
    "            alerta.accept()\n",
    "            print('Processo foi encontrado!')\n",
    "        else:\n",
    "            alerta.accept()\n",
    "            print('Processo não Encontrado')\n",
    "        navegador.refresh()\n",
    "    if 'São Paulo' in tabela.loc[linha, 'Cidade']:\n",
    "        navegador.switch_to.window(sp_aba)\n",
    "        navegador.find_element(By.ID, 'nome').send_keys(tabela.loc[linha, 'Nome'])\n",
    "        navegador.find_element(By.ID, 'advogado').send_keys(tabela.loc[linha, 'Advogado'])\n",
    "        navegador.find_element(By.ID, 'numero').send_keys(tabela.loc[linha, 'Processo'])\n",
    "        navegador.find_element(By.CLASS_NAME, 'registerbtn').click()\n",
    "        alerta = navegador.switch_to.alert\n",
    "        alerta.accept()\n",
    "        while True:\n",
    "            try:\n",
    "                alerta = navegador.switch_to.alert\n",
    "                break\n",
    "            except:\n",
    "                time.sleep(1)\n",
    "        texto_alerta = alerta.text\n",
    "        if \"Processo encontrado com sucesso\" in texto_alerta:\n",
    "            alerta.accept()\n",
    "            print('Processo foi encontrado!')\n",
    "        else:\n",
    "            alerta.accept()\n",
    "            print('Processo não Encontrado')\n",
    "        navegador.refresh()"
   ]
  },
  {
   "cell_type": "markdown",
   "id": "41c366d3",
   "metadata": {},
   "source": [
    "# RESOLUÇÃO 2\n"
   ]
  },
  {
   "cell_type": "code",
   "execution_count": 149,
   "id": "3b79259d",
   "metadata": {},
   "outputs": [
    {
     "name": "stdout",
     "output_type": "stream",
     "text": [
      "\n"
     ]
    },
    {
     "name": "stderr",
     "output_type": "stream",
     "text": [
      "[WDM] - ====== WebDriver manager ======\n",
      "[WDM] - Current google-chrome version is 103.0.5060\n",
      "[WDM] - Get LATEST chromedriver version for 103.0.5060 google-chrome\n",
      "[WDM] - Driver [C:\\Users\\islam\\.wdm\\drivers\\chromedriver\\win32\\103.0.5060.53\\chromedriver.exe] found in cache\n"
     ]
    }
   ],
   "source": [
    "# criar o navegador\n",
    "from selenium import webdriver\n",
    "from selenium.webdriver.chrome.service import Service\n",
    "from webdriver_manager.chrome import ChromeDriverManager\n",
    "from selenium.webdriver.common.by import By\n",
    "import time\n",
    "import os\n",
    "import pandas as pd\n",
    "from selenium.webdriver import ActionChains\n",
    "\n",
    "\n",
    "servico = Service(ChromeDriverManager().install())\n",
    "navegador = webdriver.Chrome(service=servico)\n",
    "\n",
    "# abrir a página index (entrar no site da busca jurídica)\n",
    "caminho = os.getcwd()\n",
    "arquivo = caminho + r\"\\index.html\"\n",
    "navegador.get(arquivo)\n",
    "\n",
    "tabela = pd.read_excel('Processos.xlsx')\n",
    "\n"
   ]
  },
  {
   "cell_type": "code",
   "execution_count": 150,
   "id": "a47cbf95",
   "metadata": {},
   "outputs": [
    {
     "data": {
      "text/html": [
       "<div>\n",
       "<style scoped>\n",
       "    .dataframe tbody tr th:only-of-type {\n",
       "        vertical-align: middle;\n",
       "    }\n",
       "\n",
       "    .dataframe tbody tr th {\n",
       "        vertical-align: top;\n",
       "    }\n",
       "\n",
       "    .dataframe thead th {\n",
       "        text-align: right;\n",
       "    }\n",
       "</style>\n",
       "<table border=\"1\" class=\"dataframe\">\n",
       "  <thead>\n",
       "    <tr style=\"text-align: right;\">\n",
       "      <th></th>\n",
       "      <th>Nome</th>\n",
       "      <th>Advogado</th>\n",
       "      <th>Processo</th>\n",
       "      <th>Cidade</th>\n",
       "      <th>Status</th>\n",
       "    </tr>\n",
       "  </thead>\n",
       "  <tbody>\n",
       "    <tr>\n",
       "      <th>0</th>\n",
       "      <td>Lira</td>\n",
       "      <td>Alon Lawyer</td>\n",
       "      <td>PC6592</td>\n",
       "      <td>Distrito Federal</td>\n",
       "      <td>Processo encontrado!</td>\n",
       "    </tr>\n",
       "    <tr>\n",
       "      <th>1</th>\n",
       "      <td>João</td>\n",
       "      <td>Lawyer Alon</td>\n",
       "      <td>EB3792</td>\n",
       "      <td>Rio de Janeiro</td>\n",
       "      <td>Processo Não encontrado!</td>\n",
       "    </tr>\n",
       "    <tr>\n",
       "      <th>2</th>\n",
       "      <td>Amanda</td>\n",
       "      <td>Amanda mesmo</td>\n",
       "      <td>MM1043</td>\n",
       "      <td>Rio de Janeiro</td>\n",
       "      <td>Processo encontrado!</td>\n",
       "    </tr>\n",
       "    <tr>\n",
       "      <th>3</th>\n",
       "      <td>Carol</td>\n",
       "      <td>Amanda</td>\n",
       "      <td>PC5197</td>\n",
       "      <td>São Paulo</td>\n",
       "      <td>Processo Não encontrado!</td>\n",
       "    </tr>\n",
       "  </tbody>\n",
       "</table>\n",
       "</div>"
      ],
      "text/plain": [
       "     Nome      Advogado Processo            Cidade                    Status\n",
       "0    Lira   Alon Lawyer   PC6592  Distrito Federal      Processo encontrado!\n",
       "1    João   Lawyer Alon   EB3792    Rio de Janeiro  Processo Não encontrado!\n",
       "2  Amanda  Amanda mesmo   MM1043    Rio de Janeiro      Processo encontrado!\n",
       "3   Carol        Amanda   PC5197         São Paulo  Processo Não encontrado!"
      ]
     },
     "execution_count": 150,
     "metadata": {},
     "output_type": "execute_result"
    }
   ],
   "source": [
    "for linha in tabela.index:\n",
    "    menu = navegador.find_element(By.XPATH, '/html/body/div/div/button')\n",
    "    ActionChains(navegador).move_to_element(menu).perform()\n",
    "    \n",
    "    cidade = tabela.loc[linha, \"Cidade\"]\n",
    "    link = navegador.find_element(By.PARTIAL_LINK_TEXT, cidade).get_attribute('href')\n",
    "    navegador.get(link)\n",
    "    \n",
    "    navegador.find_element(By.ID, 'nome').send_keys(tabela.loc[linha, 'Nome'])\n",
    "    navegador.find_element(By.ID, 'advogado').send_keys(tabela.loc[linha, 'Advogado'])\n",
    "    navegador.find_element(By.ID, 'numero').send_keys(tabela.loc[linha, 'Processo'])\n",
    "    navegador.find_element(By.CLASS_NAME, 'registerbtn').click()\n",
    "    \n",
    "    alerta = navegador.switch_to.alert\n",
    "    alerta.accept()\n",
    "    \n",
    "    while True:\n",
    "        try:\n",
    "            alerta = navegador.switch_to.alert\n",
    "            break\n",
    "        except:\n",
    "            time.sleep(1)\n",
    "            \n",
    "    texto_alerta = alerta.text\n",
    "    \n",
    "    if \"Processo encontrado com sucesso\" in texto_alerta:\n",
    "        alerta.accept()\n",
    "        tabela.loc[linha, 'Status'] = 'Processo encontrado!'\n",
    "    else:\n",
    "        alerta.accept()\n",
    "        tabela.loc[linha, 'Status'] = 'Processo Não encontrado!'\n",
    "    navegador.get(arquivo)"
   ]
  },
  {
   "cell_type": "code",
   "execution_count": null,
   "id": "3536acef",
   "metadata": {},
   "outputs": [],
   "source": [
    "navegador.quit()\n",
    "display(tabela)\n",
    "\n",
    "tabela.to_excel(\"Processos Atualizado.xlsx\")"
   ]
  },
  {
   "cell_type": "code",
   "execution_count": null,
   "id": "c6654480",
   "metadata": {},
   "outputs": [],
   "source": []
  }
 ],
 "metadata": {
  "kernelspec": {
   "display_name": "Python 3 (ipykernel)",
   "language": "python",
   "name": "python3"
  },
  "language_info": {
   "codemirror_mode": {
    "name": "ipython",
    "version": 3
   },
   "file_extension": ".py",
   "mimetype": "text/x-python",
   "name": "python",
   "nbconvert_exporter": "python",
   "pygments_lexer": "ipython3",
   "version": "3.9.7"
  }
 },
 "nbformat": 4,
 "nbformat_minor": 5
}
