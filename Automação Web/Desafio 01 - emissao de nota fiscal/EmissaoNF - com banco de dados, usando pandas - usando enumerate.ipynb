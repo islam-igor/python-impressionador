{
 "cells": [
  {
   "cell_type": "markdown",
   "id": "70c5c40a",
   "metadata": {},
   "source": [
    "Descrição do passo a passo:\n",
    "    Agora que já tem-se o modelo de como preencher para uma pessoa, será automatizado para ler uma base de dados em excel e fazer o preenchimento automático para cada item.\n",
    "    - importar o pandas\n",
    "    - fazer o preenchimento a partir de cada item da tabela\n"
   ]
  },
  {
   "cell_type": "markdown",
   "id": "699fcb77",
   "metadata": {},
   "source": [
    "# Importando Selenium apra abrir o html"
   ]
  },
  {
   "cell_type": "code",
   "execution_count": 71,
   "id": "24a72c3b",
   "metadata": {},
   "outputs": [
    {
     "name": "stdout",
     "output_type": "stream",
     "text": [
      "\n"
     ]
    },
    {
     "name": "stderr",
     "output_type": "stream",
     "text": [
      "[WDM] - ====== WebDriver manager ======\n",
      "[WDM] - Current google-chrome version is 102.0.5005\n",
      "[WDM] - Get LATEST chromedriver version for 102.0.5005 google-chrome\n",
      "[WDM] - Driver [C:\\Users\\islam\\.wdm\\drivers\\chromedriver\\win32\\102.0.5005.61\\chromedriver.exe] found in cache\n"
     ]
    }
   ],
   "source": [
    "from selenium import webdriver\n",
    "from selenium.webdriver.chrome.service import Service\n",
    "from webdriver_manager.chrome import ChromeDriverManager\n",
    "from selenium.webdriver.common.by import By\n",
    "\n",
    "options = webdriver.ChromeOptions()\n",
    "options.add_experimental_option(\"prefs\", {\n",
    "  \"download.default_directory\": r\"C:\\Users\\islam\\Downloads\\teste\",\n",
    "  \"download.prompt_for_download\": False,\n",
    "  \"download.directory_upgrade\": True,\n",
    "  \"safebrowsing.enabled\": True\n",
    "})\n",
    "\n",
    "servico = Service(ChromeDriverManager().install())\n",
    "navegador = webdriver.Chrome(service=servico, options=options)  "
   ]
  },
  {
   "cell_type": "code",
   "execution_count": 72,
   "id": "469b92d4",
   "metadata": {},
   "outputs": [],
   "source": [
    "# Entrar na página de login (login.html)\n",
    "import os\n",
    "\n",
    "caminho = os.getcwd()\n",
    "arquivo = caminho + r\"\\login.html\"\n",
    "navegador.get(arquivo)\n",
    "\n",
    "# Preecher login e Senha\n",
    "navegador.find_element(By.XPATH, '/html/body/div/form/input[1]').clear()\n",
    "navegador.find_element(By.XPATH, '/html/body/div/form/input[1]').send_keys('islam_igor')\n",
    "\n",
    "navegador.find_element(By.XPATH, '/html/body/div/form/input[2]').clear()\n",
    "navegador.find_element(By.XPATH, '/html/body/div/form/input[2]').send_keys('senha')\n",
    "\n",
    "# clica no botão de fazer login\n",
    "navegador.find_element(By.XPATH, '/html/body/div/form/button').click()"
   ]
  },
  {
   "cell_type": "code",
   "execution_count": 73,
   "id": "41861770",
   "metadata": {},
   "outputs": [
    {
     "data": {
      "text/html": [
       "<div>\n",
       "<style scoped>\n",
       "    .dataframe tbody tr th:only-of-type {\n",
       "        vertical-align: middle;\n",
       "    }\n",
       "\n",
       "    .dataframe tbody tr th {\n",
       "        vertical-align: top;\n",
       "    }\n",
       "\n",
       "    .dataframe thead th {\n",
       "        text-align: right;\n",
       "    }\n",
       "</style>\n",
       "<table border=\"1\" class=\"dataframe\">\n",
       "  <thead>\n",
       "    <tr style=\"text-align: right;\">\n",
       "      <th></th>\n",
       "      <th>Cliente</th>\n",
       "      <th>CPF/CNPJ</th>\n",
       "      <th>CEP</th>\n",
       "      <th>Endereço</th>\n",
       "      <th>Bairro</th>\n",
       "      <th>Municipio</th>\n",
       "      <th>UF</th>\n",
       "      <th>Inscricao Estadual</th>\n",
       "      <th>Descrição</th>\n",
       "      <th>Quantidade</th>\n",
       "      <th>Valor Unitario</th>\n",
       "      <th>Valor Total</th>\n",
       "    </tr>\n",
       "  </thead>\n",
       "  <tbody>\n",
       "    <tr>\n",
       "      <th>0</th>\n",
       "      <td>Valentina Márcia Melissa da Cunha</td>\n",
       "      <td>25379574076</td>\n",
       "      <td>73402036</td>\n",
       "      <td>Módulo Módulo 12</td>\n",
       "      <td>Estância Mestre D'Armas V (Planaltina)</td>\n",
       "      <td>Brasília</td>\n",
       "      <td>DF</td>\n",
       "      <td>213873</td>\n",
       "      <td>Nota referente aos serviços prestados/produtos...</td>\n",
       "      <td>3</td>\n",
       "      <td>273</td>\n",
       "      <td>819</td>\n",
       "    </tr>\n",
       "    <tr>\n",
       "      <th>1</th>\n",
       "      <td>Lara Benedita Josefa Drumond</td>\n",
       "      <td>30227643160</td>\n",
       "      <td>78730170</td>\n",
       "      <td>Avenida Manoel de Araújo Piau</td>\n",
       "      <td>Jardim Belo Panorama</td>\n",
       "      <td>Rondonópolis</td>\n",
       "      <td>MT</td>\n",
       "      <td>194139</td>\n",
       "      <td>Nota referente aos serviços prestados/produtos...</td>\n",
       "      <td>6</td>\n",
       "      <td>730</td>\n",
       "      <td>4380</td>\n",
       "    </tr>\n",
       "  </tbody>\n",
       "</table>\n",
       "</div>"
      ],
      "text/plain": [
       "                             Cliente     CPF/CNPJ       CEP  \\\n",
       "0  Valentina Márcia Melissa da Cunha  25379574076  73402036   \n",
       "1       Lara Benedita Josefa Drumond  30227643160  78730170   \n",
       "\n",
       "                        Endereço                                  Bairro  \\\n",
       "0               Módulo Módulo 12  Estância Mestre D'Armas V (Planaltina)   \n",
       "1  Avenida Manoel de Araújo Piau                    Jardim Belo Panorama   \n",
       "\n",
       "      Municipio  UF  Inscricao Estadual  \\\n",
       "0      Brasília  DF              213873   \n",
       "1  Rondonópolis  MT              194139   \n",
       "\n",
       "                                           Descrição  Quantidade  \\\n",
       "0  Nota referente aos serviços prestados/produtos...           3   \n",
       "1  Nota referente aos serviços prestados/produtos...           6   \n",
       "\n",
       "   Valor Unitario  Valor Total  \n",
       "0             273          819  \n",
       "1             730         4380  "
      ]
     },
     "execution_count": 73,
     "metadata": {},
     "output_type": "execute_result"
    }
   ],
   "source": [
    "clientes.head(2)"
   ]
  },
  {
   "cell_type": "code",
   "execution_count": 74,
   "id": "ccd2acd6",
   "metadata": {},
   "outputs": [],
   "source": [
    "# importar a base de dados\n",
    "import pandas as pd\n",
    "\n",
    "tabela = pd.read_excel(r'NotasEmitir.xlsx')\n",
    "\n",
    "# rodar o processo de emissao de NF para cada cliente\n",
    "for i, linha in enumerate(tabela.index):\n",
    "    navegador.find_element(By.NAME, 'nome').send_keys(tabela['Cliente'][i])\n",
    "    navegador.find_element(By.NAME, 'endereco').send_keys(tabela['Endereço'][i])\n",
    "    navegador.find_element(By.NAME, 'bairro').send_keys(tabela['Bairro'][i])\n",
    "    navegador.find_element(By.NAME, 'municipio').send_keys(tabela['Municipio'][i])\n",
    "    navegador.find_element(By.NAME, 'cep').send_keys(int(tabela['CEP'][i]))\n",
    "    navegador.find_element(By.NAME, 'uf').send_keys(tabela['UF'][i])\n",
    "    navegador.find_element(By.NAME, 'cnpj').send_keys(int(tabela['CPF/CNPJ'][i]))\n",
    "    navegador.find_element(By.NAME, 'inscricao').send_keys(int(tabela['Inscricao Estadual'][i]))\n",
    "    navegador.find_element(By.NAME, 'descricao').send_keys(tabela['Descrição'][i])\n",
    "    navegador.find_element(By.NAME, 'quantidade').send_keys(int(tabela['Quantidade'][i]))\n",
    "    navegador.find_element(By.NAME, 'valor_unitario').send_keys(int(tabela['Valor Unitario'][i]))\n",
    "    navegador.find_element(By.NAME, 'total').send_keys(int(tabela['Valor Total'][i]))\n",
    "    navegador.find_element(By.CLASS_NAME, 'registerbtn').click()\n",
    "    navegador.refresh()"
   ]
  }
 ],
 "metadata": {
  "kernelspec": {
   "display_name": "Python 3 (ipykernel)",
   "language": "python",
   "name": "python3"
  },
  "language_info": {
   "codemirror_mode": {
    "name": "ipython",
    "version": 3
   },
   "file_extension": ".py",
   "mimetype": "text/x-python",
   "name": "python",
   "nbconvert_exporter": "python",
   "pygments_lexer": "ipython3",
   "version": "3.9.7"
  }
 },
 "nbformat": 4,
 "nbformat_minor": 5
}
