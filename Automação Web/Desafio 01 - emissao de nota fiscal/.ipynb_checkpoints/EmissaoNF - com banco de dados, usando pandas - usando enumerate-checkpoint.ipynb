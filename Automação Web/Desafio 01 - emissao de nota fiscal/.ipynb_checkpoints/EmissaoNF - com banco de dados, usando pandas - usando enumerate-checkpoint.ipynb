{
 "cells": [
  {
   "cell_type": "markdown",
   "id": "70c5c40a",
   "metadata": {},
   "source": [
    "Descrição do passo a passo:\n",
    "    Agora que já tem-se o modelo de como preencher para uma pessoa, será automatizado para ler uma base de dados em excel e fazer o preenchimento automático para cada item.\n",
    "    - importar o pandas\n",
    "    - \n"
   ]
  },
  {
   "cell_type": "markdown",
   "id": "699fcb77",
   "metadata": {},
   "source": [
    "# Importando Selenium apra abrir o html"
   ]
  },
  {
   "cell_type": "code",
   "execution_count": 35,
   "id": "24a72c3b",
   "metadata": {},
   "outputs": [
    {
     "name": "stdout",
     "output_type": "stream",
     "text": [
      "\n"
     ]
    },
    {
     "name": "stderr",
     "output_type": "stream",
     "text": [
      "[WDM] - ====== WebDriver manager ======\n",
      "[WDM] - Current google-chrome version is 102.0.5005\n",
      "[WDM] - Get LATEST chromedriver version for 102.0.5005 google-chrome\n",
      "[WDM] - Driver [C:\\Users\\islam\\.wdm\\drivers\\chromedriver\\win32\\102.0.5005.61\\chromedriver.exe] found in cache\n"
     ]
    }
   ],
   "source": [
    "from selenium import webdriver\n",
    "from selenium.webdriver.chrome.service import Service\n",
    "from webdriver_manager.chrome import ChromeDriverManager\n",
    "from selenium.webdriver.common.by import By\n",
    "\n",
    "options = webdriver.ChromeOptions()\n",
    "options.add_experimental_option(\"prefs\", {\n",
    "  \"download.default_directory\": r\"C:\\Users\\islam\\Downloads\",\n",
    "  \"download.prompt_for_download\": False,\n",
    "  \"download.directory_upgrade\": True,\n",
    "  \"safebrowsing.enabled\": True\n",
    "})\n",
    "# driver = webdriver.Chrome(chrome_options=options) -> uma outra modificação vai ser incluir essa linha de código na antiga\n",
    "\n",
    "servico = Service(ChromeDriverManager().install())\n",
    "# navegador = webdriver.Chrome(service=servico) <--- linha de código antiga, antes da opção options\n",
    "\n",
    "# navegador = webdriver.Chrome(service=servico, chrome_options=options)  \n",
    "'''Ao rodar a linha de código acima: navegador = webdriver.Chrome(service=servico, chrome_options=options)  \n",
    "o Jupyeter trás o seguinte aviso:\n",
    "    DeprecationWarning: use options instead of chrome_options \n",
    "    navegador = webdriver.Chrome(service=servico, chrome_options=options)\n",
    "    \n",
    "Portanto será ajustado o código utilizando a função options ao inves de chrome_options, como solicitado\n",
    "    '''\n",
    "navegador = webdriver.Chrome(service=servico, options=options)  "
   ]
  },
  {
   "cell_type": "code",
   "execution_count": 36,
   "id": "469b92d4",
   "metadata": {},
   "outputs": [],
   "source": [
    "# Entrar na página de login (login.html)\n",
    "import os\n",
    "\n",
    "caminho = os.getcwd()\n",
    "arquivo = caminho + r\"\\login.html\"\n",
    "navegador.get(arquivo)\n",
    "\n",
    "# Uma outra solução seria passar o caminho completo\n",
    "        # navegador.get(r\"C:\\Users\\islam\\Documents\\Programação\n",
    "            # \\python-impressionador\\Automação Web\\Desafio 01 - emissao de nota fiscal\\login.html\")'''\n",
    "\n",
    "# Preecher login e Senha\n",
    "navegador.find_element(By.XPATH, '/html/body/div/form/input[1]').clear()\n",
    "navegador.find_element(By.XPATH, '/html/body/div/form/input[1]').send_keys('islam_igor')\n",
    "\n",
    "navegador.find_element(By.XPATH, '/html/body/div/form/input[2]').clear()\n",
    "navegador.find_element(By.XPATH, '/html/body/div/form/input[2]').send_keys('senha')\n",
    "\n",
    "# clica no botão de fazer login\n",
    "navegador.find_element(By.XPATH, '/html/body/div/form/button').click()\n",
    "\n",
    "\n"
   ]
  },
  {
   "cell_type": "code",
   "execution_count": 37,
   "id": "ce86cff0",
   "metadata": {},
   "outputs": [],
   "source": [
    "# Preencher os dados da NF\n",
    "navegador.find_element(By.NAME, 'nome').clear()\n",
    "navegador.find_element(By.NAME, 'nome').send_keys('Islam Ígor')\n",
    "\n",
    "navegador.find_element(By.NAME, 'endereco').clear()\n",
    "navegador.find_element(By.NAME, 'endereco').send_keys('Rua Onde Eu Moro')\n",
    "\n",
    "navegador.find_element(By.NAME, 'bairro').clear()\n",
    "navegador.find_element(By.NAME, 'bairro').send_keys('Bairro do meu Endereço')\n",
    "\n",
    "navegador.find_element(By.NAME, 'municipio').clear()\n",
    "navegador.find_element(By.NAME, 'municipio').send_keys('Teresina')\n",
    "\n",
    "navegador.find_element(By.NAME, 'cep').clear()\n",
    "navegador.find_element(By.NAME, 'cep').send_keys('64000-000')\n",
    "\n",
    "\n",
    "# modo simples  : navegador.find_element(By.NAME, 'uf').send_keys('PI')\n",
    "\n",
    "from selenium.webdriver.support.select import Select\n",
    "\n",
    "elemento = navegador.find_element(By.NAME, 'uf')\n",
    "elemento_select = Select(elemento)\n",
    "elemento_select.select_by_value('17')  # 17 é o valor de PI\n",
    "\n",
    "navegador.find_element(By.NAME, 'cnpj').clear()\n",
    "navegador.find_element(By.NAME, 'cnpj').send_keys('XXX.XXX/0001-XX')\n",
    "\n",
    "navegador.find_element(By.NAME, 'inscricao').clear()\n",
    "navegador.find_element(By.NAME, 'inscricao').send_keys('123.456.789.011')\n",
    "\n",
    "navegador.find_element(By.NAME, 'descricao').clear()\n",
    "navegador.find_element(By.NAME, 'descricao').send_keys('Venda de um Calçado')\n",
    "\n",
    "navegador.find_element(By.NAME, 'quantidade').clear()\n",
    "#navegador.find_element(By.NAME, 'quantidade').send_keys('1')\n",
    "navegador.find_element(By.NAME, 'quantidade').send_keys('1')\n",
    "quantidade = navegador.find_element(By.NAME, 'quantidade').get_attribute('value')\n",
    "\n",
    "navegador.find_element(By.NAME, 'valor_unitario').clear()\n",
    "navegador.find_element(By.NAME, 'valor_unitario').send_keys('189.90')\n",
    "valor_unitario = navegador.find_element(By.NAME, 'valor_unitario').get_attribute('value')\n",
    "\n",
    "navegador.find_element(By.NAME, 'total').clear()\n",
    "navegador.find_element(By.NAME, 'total').send_keys(float(quantidade)*float(valor_unitario))"
   ]
  },
  {
   "cell_type": "code",
   "execution_count": 38,
   "id": "ef1033fb",
   "metadata": {},
   "outputs": [],
   "source": [
    "# clicar no botao de emitir a NF\n",
    "navegador.find_element(By.CLASS_NAME, 'registerbtn').click()\n",
    "\n",
    "# nota-se que o downlaod não é completado, por conta de uma confirmação de segurança do chrome\n",
    "# para conseguir ajustar será feito uma pesquisa \"python selenium notification download\"\n",
    "\n"
   ]
  },
  {
   "cell_type": "markdown",
   "id": "a5c2f521",
   "metadata": {},
   "source": [
    "Pela Pesquisa \"python selenium notification download\"\n",
    "Acessou-se o stack over flow : \n",
    "\n",
    "https://stackoverflow.com/questions/40654358/how-to-control-the-download-of-files-with-selenium-python-bindings-in-chrome\n",
    "    \n",
    "E nesse link encontramos a possível solução para o problema:\n",
    "\n",
    "options = webdriver.ChromeOptions()\n",
    "options.add_experimental_option(\"prefs\", {\n",
    "  \"download.default_directory\": r\"C:\\Users\\xxx\\downloads\\Test\",\n",
    "  \"download.prompt_for_download\": False,\n",
    "  \"download.directory_upgrade\": True,\n",
    "  \"safebrowsing.enabled\": True\n",
    "})\n",
    "driver = webdriver.Chrome(chrome_options=options)\n",
    "\n",
    "\n",
    "Com essas linhas de código, aplicaremos ela no início do código e testaremos para ver se o download do arquivo será completado."
   ]
  },
  {
   "cell_type": "code",
   "execution_count": 40,
   "id": "4388b426",
   "metadata": {},
   "outputs": [],
   "source": [
    "navegador.refresh() #atualiza a pagina para limpar todos os valores"
   ]
  },
  {
   "cell_type": "code",
   "execution_count": null,
   "id": "daef2d25",
   "metadata": {},
   "outputs": [],
   "source": []
  }
 ],
 "metadata": {
  "kernelspec": {
   "display_name": "Python 3 (ipykernel)",
   "language": "python",
   "name": "python3"
  },
  "language_info": {
   "codemirror_mode": {
    "name": "ipython",
    "version": 3
   },
   "file_extension": ".py",
   "mimetype": "text/x-python",
   "name": "python",
   "nbconvert_exporter": "python",
   "pygments_lexer": "ipython3",
   "version": "3.9.7"
  }
 },
 "nbformat": 4,
 "nbformat_minor": 5
}
