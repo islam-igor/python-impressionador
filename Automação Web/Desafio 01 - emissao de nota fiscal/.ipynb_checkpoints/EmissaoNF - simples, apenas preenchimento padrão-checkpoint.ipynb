{
 "cells": [
  {
   "cell_type": "markdown",
   "id": "70c5c40a",
   "metadata": {},
   "source": [
    "Descrição do passo a passo:\n",
    " - Entrar na página de login (login.html)\n",
    " - Preecher login e Senha\n",
    " - clica no botão de fazer login\n",
    " - preencher os dados da NF\n",
    " - clicar no botao de emitir a NF\n"
   ]
  },
  {
   "cell_type": "markdown",
   "id": "699fcb77",
   "metadata": {},
   "source": [
    "# Importando Selenium apra abrir o html"
   ]
  },
  {
   "cell_type": "code",
   "execution_count": 1,
   "id": "24a72c3b",
   "metadata": {},
   "outputs": [
    {
     "name": "stdout",
     "output_type": "stream",
     "text": [
      "\n"
     ]
    },
    {
     "name": "stderr",
     "output_type": "stream",
     "text": [
      "[WDM] - ====== WebDriver manager ======\n",
      "[WDM] - Current google-chrome version is 102.0.5005\n",
      "[WDM] - Get LATEST chromedriver version for 102.0.5005 google-chrome\n",
      "[WDM] - About to download new driver from https://chromedriver.storage.googleapis.com/102.0.5005.61/chromedriver_win32.zip\n",
      "[WDM] - Driver has been saved in cache [C:\\Users\\islam\\.wdm\\drivers\\chromedriver\\win32\\102.0.5005.61]\n"
     ]
    }
   ],
   "source": [
    "from selenium import webdriver\n",
    "from selenium.webdriver.chrome.service import Service\n",
    "from webdriver_manager.chrome import ChromeDriverManager\n",
    "from selenium.webdriver.common.by import By\n",
    "\n",
    "\n",
    "servico = Service(ChromeDriverManager().install())\n",
    "navegador = webdriver.Chrome(service=servico)"
   ]
  },
  {
   "cell_type": "code",
   "execution_count": 17,
   "id": "469b92d4",
   "metadata": {},
   "outputs": [],
   "source": [
    "# Entrar na página de login (login.html)\n",
    "import os\n",
    "\n",
    "caminho = os.getcwd()\n",
    "arquivo = caminho + r\"\\login.html\"\n",
    "navegador.get(arquivo)\n",
    "\n",
    "# Uma outra solução seria passar o caminho completo\n",
    "        # navegador.get(r\"C:\\Users\\islam\\Documents\\Programação\n",
    "            # \\python-impressionador\\Automação Web\\Desafio 01 - emissao de nota fiscal\\login.html\")'''\n",
    "\n",
    "# Preecher login e Senha\n",
    "navegador.find_element(By.XPATH, '/html/body/div/form/input[1]').clear()\n",
    "navegador.find_element(By.XPATH, '/html/body/div/form/input[1]').send_keys('islam_igor')\n",
    "\n",
    "navegador.find_element(By.XPATH, '/html/body/div/form/input[2]').clear()\n",
    "navegador.find_element(By.XPATH, '/html/body/div/form/input[2]').send_keys('senha')\n",
    "\n",
    "# clica no botão de fazer login\n",
    "navegador.find_element(By.XPATH, '/html/body/div/form/button').click()\n",
    "\n",
    "\n"
   ]
  },
  {
   "cell_type": "code",
   "execution_count": 76,
   "id": "ce86cff0",
   "metadata": {},
   "outputs": [],
   "source": [
    "# Preencher os dados da NF\n",
    "navegador.find_element(By.NAME, 'nome').clear()\n",
    "navegador.find_element(By.NAME, 'nome').send_keys('Islam Ígor')\n",
    "\n",
    "navegador.find_element(By.NAME, 'endereco').clear()\n",
    "navegador.find_element(By.NAME, 'endereco').send_keys('Rua Onde Eu Moro')\n",
    "\n",
    "navegador.find_element(By.NAME, 'bairro').clear()\n",
    "navegador.find_element(By.NAME, 'bairro').send_keys('Bairro do meu Endereço')\n",
    "\n",
    "navegador.find_element(By.NAME, 'municipio').clear()\n",
    "navegador.find_element(By.NAME, 'municipio').send_keys('Teresina')\n",
    "\n",
    "navegador.find_element(By.NAME, 'cep').clear()\n",
    "navegador.find_element(By.NAME, 'cep').send_keys('64000-000')\n",
    "\n",
    "\n",
    "# modo simples  : navegador.find_element(By.NAME, 'uf').send_keys('PI')\n",
    "\n",
    "from selenium.webdriver.support.select import Select\n",
    "\n",
    "elemento = navegador.find_element(By.NAME, 'uf')\n",
    "elemento_select = Select(elemento)\n",
    "elemento_select.select_by_value('17')  # 17 é o valor de PI\n",
    "\n",
    "navegador.find_element(By.NAME, 'cnpj').clear()\n",
    "navegador.find_element(By.NAME, 'cnpj').send_keys('XXX.XXX/0001-XX')\n",
    "\n",
    "navegador.find_element(By.NAME, 'inscricao').clear()\n",
    "navegador.find_element(By.NAME, 'inscricao').send_keys('123.456.789.011')\n",
    "\n",
    "navegador.find_element(By.NAME, 'descricao').clear()\n",
    "navegador.find_element(By.NAME, 'descricao').send_keys('Venda de um Calçado')\n",
    "\n",
    "navegador.find_element(By.NAME, 'quantidade').clear()\n",
    "#navegador.find_element(By.NAME, 'quantidade').send_keys('1')\n",
    "navegador.find_element(By.NAME, 'quantidade').send_keys('1')\n",
    "quantidade = navegador.find_element(By.NAME, 'quantidade').get_attribute('value')\n",
    "\n",
    "navegador.find_element(By.NAME, 'valor_unitario').clear()\n",
    "navegador.find_element(By.NAME, 'valor_unitario').send_keys('189.90')\n",
    "valor_unitario = navegador.find_element(By.NAME, 'valor_unitario').get_attribute('value')\n",
    "\n",
    "navegador.find_element(By.NAME, 'total').clear()\n",
    "navegador.find_element(By.NAME, 'total').send_keys(float(quantidade)*float(valor_unitario))"
   ]
  },
  {
   "cell_type": "code",
   "execution_count": 78,
   "id": "ef1033fb",
   "metadata": {},
   "outputs": [],
   "source": [
    "# clicar no botao de emitir a NF\n",
    "navegador.find_element(By.CLASS_NAME, 'registerbtn').click()"
   ]
  },
  {
   "cell_type": "code",
   "execution_count": 79,
   "id": "4388b426",
   "metadata": {},
   "outputs": [],
   "source": [
    "navegador.refresh() #atualiza a pagina para limpar todos os valores"
   ]
  }
 ],
 "metadata": {
  "kernelspec": {
   "display_name": "Python 3 (ipykernel)",
   "language": "python",
   "name": "python3"
  },
  "language_info": {
   "codemirror_mode": {
    "name": "ipython",
    "version": 3
   },
   "file_extension": ".py",
   "mimetype": "text/x-python",
   "name": "python",
   "nbconvert_exporter": "python",
   "pygments_lexer": "ipython3",
   "version": "3.9.7"
  }
 },
 "nbformat": 4,
 "nbformat_minor": 5
}
