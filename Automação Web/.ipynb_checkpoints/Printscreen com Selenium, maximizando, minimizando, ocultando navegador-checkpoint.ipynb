{
 "cells": [
  {
   "cell_type": "markdown",
   "id": "7e990faa",
   "metadata": {},
   "source": [
    "### Abrindo o navegador"
   ]
  },
  {
   "cell_type": "code",
   "execution_count": 1,
   "id": "fe458edf",
   "metadata": {},
   "outputs": [
    {
     "name": "stdout",
     "output_type": "stream",
     "text": [
      "\n"
     ]
    },
    {
     "name": "stderr",
     "output_type": "stream",
     "text": [
      "[WDM] - ====== WebDriver manager ======\n",
      "[WDM] - Current google-chrome version is 103.0.5060\n",
      "[WDM] - Get LATEST chromedriver version for 103.0.5060 google-chrome\n",
      "[WDM] - Driver [C:\\Users\\islam\\.wdm\\drivers\\chromedriver\\win32\\103.0.5060.53\\chromedriver.exe] found in cache\n"
     ]
    }
   ],
   "source": [
    "from selenium import webdriver\n",
    "from selenium.webdriver.chrome.service import Service\n",
    "from webdriver_manager.chrome import ChromeDriverManager\n",
    "from selenium.webdriver.common.by import By\n",
    "\n",
    "servico = Service(ChromeDriverManager().install())\n",
    "navegador = webdriver.Chrome(service=servico)"
   ]
  },
  {
   "cell_type": "code",
   "execution_count": 2,
   "id": "7f376de9",
   "metadata": {},
   "outputs": [],
   "source": [
    "import os\n",
    "\n",
    "navegador.get('https://www.hashtagtreinamentos.com/todos-os-cursos')"
   ]
  },
  {
   "cell_type": "markdown",
   "id": "b4f29156",
   "metadata": {},
   "source": [
    "### Tirando print da tela inteira"
   ]
  },
  {
   "cell_type": "code",
   "execution_count": 3,
   "id": "0f9ded01",
   "metadata": {},
   "outputs": [
    {
     "data": {
      "text/plain": [
       "True"
      ]
     },
     "execution_count": 3,
     "metadata": {},
     "output_type": "execute_result"
    }
   ],
   "source": [
    "navegador.save_screenshot(\"print.png\")"
   ]
  },
  {
   "cell_type": "markdown",
   "id": "034f941a",
   "metadata": {},
   "source": [
    "### Tirando print de parte da tela"
   ]
  },
  {
   "cell_type": "code",
   "execution_count": 8,
   "id": "f671d684",
   "metadata": {},
   "outputs": [],
   "source": [
    "from PIL import Image\n",
    "\n",
    "imagem = Image.open(\"print.png\")\n",
    "\n",
    "elemento = navegador.find_element(By.ID, 'header')\n",
    "posicao = elemento.location\n",
    "tamanho = elemento.size\n",
    "\n",
    "x_inicial = posicao[\"x\"]\n",
    "y_inicial = posicao[\"y\"]\n",
    "x_final = (x_inicial + tamanho[\"width\"])\n",
    "y_final = (y_inicial + tamanho[\"height\"])\n",
    "\n",
    "imagem = imagem.crop((x_inicial, y_inicial, x_final, y_final))\n",
    "imagem.save(\"print_pedaco.png\")"
   ]
  },
  {
   "cell_type": "code",
   "execution_count": 9,
   "id": "a942394c",
   "metadata": {},
   "outputs": [
    {
     "name": "stdout",
     "output_type": "stream",
     "text": [
      "{'height': 147, 'width': 912}\n",
      "{'x': 0, 'y': 0}\n"
     ]
    }
   ],
   "source": [
    "# Para encontrar as informações de x , y , largura e altura, caso necessário\n",
    "\n",
    "elemento = navegador.find_element(By.ID, 'header')\n",
    "tamanho = elemento.size\n",
    "posicao = elemento.location\n",
    "\n",
    "print(tamanho)\n",
    "print(posicao)"
   ]
  },
  {
   "cell_type": "markdown",
   "id": "90af7d50",
   "metadata": {},
   "source": [
    "\n",
    "\n",
    "\n",
    "# Editando a tela do navegador"
   ]
  },
  {
   "cell_type": "markdown",
   "id": "2831f33f",
   "metadata": {},
   "source": [
    "#### maximizar"
   ]
  },
  {
   "cell_type": "code",
   "execution_count": 5,
   "id": "27a85fd5",
   "metadata": {},
   "outputs": [],
   "source": [
    "navegador.maximize_window()"
   ]
  },
  {
   "cell_type": "markdown",
   "id": "ee490159",
   "metadata": {},
   "source": [
    "#### minimizar"
   ]
  },
  {
   "cell_type": "code",
   "execution_count": 6,
   "id": "64329551",
   "metadata": {},
   "outputs": [],
   "source": [
    "navegador.minimize_window()"
   ]
  },
  {
   "cell_type": "markdown",
   "id": "ede0e3ca",
   "metadata": {},
   "source": [
    "#### headless\n",
    "\n",
    "Modo que permite o navegador ficar oculto, ele vai rodar normalmente, mas não aparecerá o navegador na sua tela.\n",
    "\n",
    "#### Atenção!!!!\n",
    "Nem sempre funciona igual, para alguns sites pode dar problema\n",
    "recomenda-se exercutar todo o código sem o modo headless, e testar depois se está funcionando"
   ]
  },
  {
   "cell_type": "code",
   "execution_count": 10,
   "id": "c4020478",
   "metadata": {},
   "outputs": [
    {
     "name": "stdout",
     "output_type": "stream",
     "text": [
      "Facebook – entre ou cadastre-se\n"
     ]
    }
   ],
   "source": [
    "options = webdriver.ChromeOptions()\n",
    "options.add_argument('--headless')\n",
    "novo_nav = webdriver.Chrome(service=servico, options=options)\n",
    "novo_nav.get(\"https://facebook.com\")\n",
    "print(novo_nav.title)"
   ]
  },
  {
   "cell_type": "code",
   "execution_count": null,
   "id": "64378c45",
   "metadata": {},
   "outputs": [],
   "source": []
  }
 ],
 "metadata": {
  "kernelspec": {
   "display_name": "Python 3 (ipykernel)",
   "language": "python",
   "name": "python3"
  },
  "language_info": {
   "codemirror_mode": {
    "name": "ipython",
    "version": 3
   },
   "file_extension": ".py",
   "mimetype": "text/x-python",
   "name": "python",
   "nbconvert_exporter": "python",
   "pygments_lexer": "ipython3",
   "version": "3.9.7"
  }
 },
 "nbformat": 4,
 "nbformat_minor": 5
}
