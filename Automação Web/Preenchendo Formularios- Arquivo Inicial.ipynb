{
 "cells": [
  {
   "cell_type": "markdown",
   "id": "367cd714",
   "metadata": {
    "id": "367cd714"
   },
   "source": [
    "### Documentação Selenium:\n",
    "\n",
    "- https://selenium-python.readthedocs.io/locating-elements.html"
   ]
  },
  {
   "cell_type": "code",
   "execution_count": 190,
   "id": "4e28f9f7",
   "metadata": {
    "id": "4e28f9f7"
   },
   "outputs": [
    {
     "name": "stdout",
     "output_type": "stream",
     "text": [
      "\n"
     ]
    },
    {
     "name": "stderr",
     "output_type": "stream",
     "text": [
      "[WDM] - ====== WebDriver manager ======\n",
      "[WDM] - Current google-chrome version is 102.0.5005\n",
      "[WDM] - Get LATEST chromedriver version for 102.0.5005 google-chrome\n",
      "[WDM] - Driver [C:\\Users\\islam\\.wdm\\drivers\\chromedriver\\win32\\102.0.5005.61\\chromedriver.exe] found in cache\n"
     ]
    }
   ],
   "source": [
    "from selenium import webdriver\n",
    "from selenium.webdriver.chrome.service import Service\n",
    "from webdriver_manager.chrome import ChromeDriverManager\n",
    "from selenium.webdriver.common.by import By\n",
    "\n",
    "servico = Service(ChromeDriverManager().install())\n",
    "navegador = webdriver.Chrome(service=servico)"
   ]
  },
  {
   "cell_type": "code",
   "execution_count": 191,
   "id": "59c8398d",
   "metadata": {
    "id": "59c8398d"
   },
   "outputs": [],
   "source": [
    "import os  # biblioteca para acessar o sistema operacional\n",
    "\n",
    "caminho = os.getcwd()     #caminho que ta seu código\n",
    "arquivo = caminho + r\"\\formulario.html\" #concatenando com o nome do arquivo que você quer abrir\n",
    "navegador.get(arquivo) # abrindo o arquivo no seu navegador"
   ]
  },
  {
   "cell_type": "markdown",
   "id": "7d964ce5",
   "metadata": {
    "id": "7d964ce5"
   },
   "source": [
    "#### Botão Padrão (clicar em botão)"
   ]
  },
  {
   "cell_type": "code",
   "execution_count": 192,
   "id": "e5c8e21c",
   "metadata": {
    "id": "e5c8e21c"
   },
   "outputs": [],
   "source": [
    "navegador.find_element(By.XPATH, '/html/body/form/input[1]').click()\n",
    "# clicou no botão e apareceu um POP-UP\n",
    "\n",
    "alerta = navegador.switch_to.alert\n",
    "alerta.accept()    # em caso de recusa .dismiss()"
   ]
  },
  {
   "cell_type": "markdown",
   "id": "1aeb33bf",
   "metadata": {
    "id": "1aeb33bf"
   },
   "source": [
    "#### Dica, esteja atento ao atributo \"value\" dos inputs, ele pode te ajudar\n",
    "\n",
    "- .text\n",
    "- .get_attribute(\"value\")\n",
    "- .is_selected"
   ]
  },
  {
   "cell_type": "markdown",
   "id": "1331d937",
   "metadata": {
    "id": "1331d937"
   },
   "source": [
    "#### Botão de Seleção estilo Checkbox (clicar no botão)"
   ]
  },
  {
   "cell_type": "code",
   "execution_count": 193,
   "id": "f198b96a",
   "metadata": {
    "id": "f198b96a"
   },
   "outputs": [],
   "source": [
    "# Clicar no botão da Checkbox\n",
    "navegador.find_element(By.XPATH, '/html/body/form/input[3]').click()"
   ]
  },
  {
   "cell_type": "code",
   "execution_count": 194,
   "id": "945a973c",
   "metadata": {
    "id": "945a973c"
   },
   "outputs": [
    {
     "name": "stdout",
     "output_type": "stream",
     "text": [
      "True\n"
     ]
    }
   ],
   "source": [
    "# Verificar o valor do botão\n",
    "valor = navegador.find_element(By.XPATH, '/html/body/form/input[3]').is_selected()\n",
    "print(valor)\n",
    "# se tiver selecionado = True / se não tiver selecionado = False\n"
   ]
  },
  {
   "cell_type": "markdown",
   "id": "6bd35ffa",
   "metadata": {
    "id": "6bd35ffa"
   },
   "source": [
    "#### Botão de Seleção de Cores (enviar valor)"
   ]
  },
  {
   "cell_type": "code",
   "execution_count": 195,
   "id": "1c1e2893",
   "metadata": {
    "id": "1c1e2893"
   },
   "outputs": [
    {
     "data": {
      "text/plain": [
       "'#000000'"
      ]
     },
     "execution_count": 195,
     "metadata": {},
     "output_type": "execute_result"
    }
   ],
   "source": [
    "navegador.find_element(By.XPATH, '/html/body/form/input[4]').get_attribute('value')\n",
    "# buscou o código hexadecimal correspondente a cor que estava selecionada."
   ]
  },
  {
   "cell_type": "code",
   "execution_count": 196,
   "id": "c21740f7",
   "metadata": {},
   "outputs": [],
   "source": [
    "# preencher uma cor especifica \n",
    "# #894d4d\n",
    "navegador.find_element(By.XPATH,'/html/body/form/input[4]').send_keys('#2143E8')"
   ]
  },
  {
   "cell_type": "markdown",
   "id": "d1492596",
   "metadata": {
    "id": "d1492596"
   },
   "source": [
    "#### Botão de Datas (enviar valor)"
   ]
  },
  {
   "cell_type": "code",
   "execution_count": 197,
   "id": "76a9b172",
   "metadata": {
    "id": "76a9b172"
   },
   "outputs": [],
   "source": [
    "# preenchendo\n",
    "navegador.find_element(By.XPATH, '/html/body/form/input[6]').send_keys('15/02/1994')"
   ]
  },
  {
   "cell_type": "code",
   "execution_count": 198,
   "id": "7b3566a4",
   "metadata": {
    "id": "7b3566a4"
   },
   "outputs": [
    {
     "data": {
      "text/plain": [
       "'1994-02-15'"
      ]
     },
     "execution_count": 198,
     "metadata": {},
     "output_type": "execute_result"
    }
   ],
   "source": [
    "# pegando a informação\n",
    "navegador.find_element(By.XPATH, '/html/body/form/input[6]').get_attribute('value')\n",
    "\n",
    "# o valor armazenado ficou no formato americano ano-mes-dia"
   ]
  },
  {
   "cell_type": "markdown",
   "id": "b56c93ff",
   "metadata": {
    "id": "b56c93ff"
   },
   "source": [
    "#### Botão de Datas com Horas (enviar valor)"
   ]
  },
  {
   "cell_type": "code",
   "execution_count": 199,
   "id": "0fef066d",
   "metadata": {
    "id": "0fef066d"
   },
   "outputs": [
    {
     "data": {
      "text/plain": [
       "''"
      ]
     },
     "execution_count": 199,
     "metadata": {},
     "output_type": "execute_result"
    }
   ],
   "source": [
    "# pegando a informação\n",
    "navegador.find_element(By.XPATH, '/html/body/form/input[7]').get_attribute('value')"
   ]
  },
  {
   "cell_type": "code",
   "execution_count": 200,
   "id": "eb4e4b0f",
   "metadata": {
    "id": "eb4e4b0f"
   },
   "outputs": [],
   "source": [
    "# preenchendo\n",
    "navegador.find_element(By.XPATH, '/html/body/form/input[7]').send_keys('05/08/1993 16:00')\n",
    "# no preenchimento da data, o horario nao tá indo, é necessário apertar a tecla\n",
    "# TAB para que possa saltar da informação de data, para a do horário\n"
   ]
  },
  {
   "cell_type": "code",
   "execution_count": 201,
   "id": "7674a1e7",
   "metadata": {
    "id": "7674a1e7"
   },
   "outputs": [],
   "source": [
    "from selenium.webdriver.common.keys import Keys\n",
    "# biblioteca que permite usar o TECLADO \n",
    "\n",
    "navegador.find_element(By.XPATH, '/html/body/form/input[7]').send_keys('05/08/1993', Keys.TAB, '15:20')\n"
   ]
  },
  {
   "cell_type": "markdown",
   "id": "2fcaf917",
   "metadata": {
    "id": "2fcaf917"
   },
   "source": [
    "#### Botão para selecionar o arquivo (enviar valor com caminho completo)"
   ]
  },
  {
   "cell_type": "code",
   "execution_count": 202,
   "id": "5f5c399a",
   "metadata": {
    "id": "5f5c399a"
   },
   "outputs": [],
   "source": [
    "# preencher o anexo, basta passar a local que o arquivo está\n",
    "navegador.find_element(By.XPATH, '/html/body/form/input[8]').send_keys(r'C:\\Users\\islam\\Documents\\Programação\\python-impressionador\\Automação Web\\formulario.html')"
   ]
  },
  {
   "cell_type": "code",
   "execution_count": 203,
   "id": "cd9835fb",
   "metadata": {
    "id": "cd9835fb"
   },
   "outputs": [
    {
     "data": {
      "text/plain": [
       "'C:\\\\fakepath\\\\formulario.html'"
      ]
     },
     "execution_count": 203,
     "metadata": {},
     "output_type": "execute_result"
    }
   ],
   "source": [
    "# pegar valor\n",
    "navegador.find_element(By.XPATH, '/html/body/form/input[8]').get_attribute('value')"
   ]
  },
  {
   "cell_type": "markdown",
   "id": "7964ee26",
   "metadata": {
    "id": "7964ee26"
   },
   "source": [
    "#### Botão para selecionar mês e ano (enviar valor)"
   ]
  },
  {
   "cell_type": "code",
   "execution_count": 204,
   "id": "79237b1e",
   "metadata": {
    "id": "79237b1e"
   },
   "outputs": [
    {
     "data": {
      "text/plain": [
       "''"
      ]
     },
     "execution_count": 204,
     "metadata": {},
     "output_type": "execute_result"
    }
   ],
   "source": [
    "# pegar valor\n",
    "navegador.find_element(By.XPATH, '/html/body/form/input[9]').get_attribute('value')"
   ]
  },
  {
   "cell_type": "code",
   "execution_count": 205,
   "id": "00228d19",
   "metadata": {},
   "outputs": [],
   "source": [
    "# prencher valor\n",
    "navegador.find_element(By.XPATH, '/html/body/form/input[9]').send_keys('agosto', Keys.TAB, '1993')"
   ]
  },
  {
   "cell_type": "markdown",
   "id": "a0191d44",
   "metadata": {
    "id": "a0191d44"
   },
   "source": [
    "#### Campos Numéricos"
   ]
  },
  {
   "cell_type": "code",
   "execution_count": 206,
   "id": "bc5286c4",
   "metadata": {
    "id": "bc5286c4"
   },
   "outputs": [],
   "source": [
    "# só pode ter números\n",
    "navegador.find_element(By.XPATH, '/html/body/form/input[10]').clear() # para limpar\n",
    "navegador.find_element(By.XPATH, '/html/body/form/input[10]').send_keys('123456')"
   ]
  },
  {
   "cell_type": "markdown",
   "id": "2b794913",
   "metadata": {
    "id": "2b794913"
   },
   "source": [
    "#### Campos de Senha"
   ]
  },
  {
   "cell_type": "code",
   "execution_count": 207,
   "id": "8f7687cb",
   "metadata": {
    "id": "8f7687cb"
   },
   "outputs": [],
   "source": [
    "# só pode ter números\n",
    "navegador.find_element(By.XPATH, '/html/body/form/input[11]').clear() # para limpar\n",
    "navegador.find_element(By.XPATH, '/html/body/form/input[11]').send_keys('123abc')"
   ]
  },
  {
   "cell_type": "code",
   "execution_count": 208,
   "id": "7c03c1b4",
   "metadata": {},
   "outputs": [
    {
     "data": {
      "text/plain": [
       "'123abc'"
      ]
     },
     "execution_count": 208,
     "metadata": {},
     "output_type": "execute_result"
    }
   ],
   "source": [
    "navegador.find_element(By.XPATH, '/html/body/form/input[11]').get_attribute('value')"
   ]
  },
  {
   "cell_type": "markdown",
   "id": "ce8ecd00",
   "metadata": {
    "id": "ce8ecd00"
   },
   "source": [
    "#### RadioButtons (botões que só consegue marcar 1)"
   ]
  },
  {
   "cell_type": "code",
   "execution_count": 209,
   "id": "5bf2274a",
   "metadata": {
    "id": "5bf2274a"
   },
   "outputs": [],
   "source": [
    "navegador.find_element(By.XPATH, '/html/body/form/input[14]').click()"
   ]
  },
  {
   "cell_type": "code",
   "execution_count": 210,
   "id": "609711ff",
   "metadata": {
    "id": "609711ff"
   },
   "outputs": [
    {
     "data": {
      "text/plain": [
       "True"
      ]
     },
     "execution_count": 210,
     "metadata": {},
     "output_type": "execute_result"
    }
   ],
   "source": [
    "navegador.find_element(By.XPATH, '/html/body/form/input[14]').is_selected()"
   ]
  },
  {
   "cell_type": "markdown",
   "id": "cc904df6",
   "metadata": {
    "id": "cc904df6"
   },
   "source": [
    "#### Slider (enviar valor)"
   ]
  },
  {
   "cell_type": "code",
   "execution_count": 211,
   "id": "8d6d6ec7",
   "metadata": {
    "id": "8d6d6ec7"
   },
   "outputs": [
    {
     "data": {
      "text/plain": [
       "'50'"
      ]
     },
     "execution_count": 211,
     "metadata": {},
     "output_type": "execute_result"
    }
   ],
   "source": [
    "#pegar valor\n",
    "navegador.find_element(By.XPATH, '/html/body/form/input[15]').get_attribute('value')"
   ]
  },
  {
   "cell_type": "code",
   "execution_count": 212,
   "id": "89d89deb",
   "metadata": {
    "id": "89d89deb"
   },
   "outputs": [],
   "source": [
    "#preencher\n",
    "navegador.find_element(By.XPATH, '/html/body/form/input[15]').clear()\n",
    "#observe que o valor 'LIMPO' dele é no meio"
   ]
  },
  {
   "cell_type": "code",
   "execution_count": 213,
   "id": "6d9e3212",
   "metadata": {},
   "outputs": [],
   "source": [
    "# para colocar o valor, vamos usar uma 'gambiarra'\n",
    "elemento = navegador.find_element(By.XPATH, '/html/body/form/input[15]')\n",
    "# salva o elemento em uma variável\n",
    "elemento.clear()\n",
    "# limpa ele para ir para o valor conhecido (50)\n",
    "for i in range (70 - 50):    # (70 é o valor que queremos)\n",
    "    elemento.send_keys(Keys.ARROW_RIGHT)\n"
   ]
  },
  {
   "cell_type": "code",
   "execution_count": 214,
   "id": "79d59106",
   "metadata": {},
   "outputs": [],
   "source": [
    "# para movimentar para valores abaixo, usa-se a tecla a esquerda\n",
    "elemento.clear()\n",
    "    \n",
    "for i in range (50 - 30):\n",
    "    elemento.send_keys(Keys.ARROW_LEFT)"
   ]
  },
  {
   "cell_type": "markdown",
   "id": "f03e42d6",
   "metadata": {
    "id": "f03e42d6"
   },
   "source": [
    "#### Caixa de Texto"
   ]
  },
  {
   "cell_type": "code",
   "execution_count": 215,
   "id": "cad4b566",
   "metadata": {
    "id": "cad4b566"
   },
   "outputs": [],
   "source": [
    "# Para Preencher\n",
    "navegador.find_element(By.XPATH, '/html/body/form/input[16]').send_keys('Vasco')\n"
   ]
  },
  {
   "cell_type": "code",
   "execution_count": 216,
   "id": "4e3de6e1",
   "metadata": {
    "id": "4e3de6e1"
   },
   "outputs": [
    {
     "name": "stdout",
     "output_type": "stream",
     "text": [
      "Vasco\n"
     ]
    }
   ],
   "source": [
    "# Para Ver o que tem escrito dentro do INPUT\n",
    "valor = navegador.find_element(By.XPATH, '/html/body/form/input[16]').get_attribute('value')\n",
    "print(valor)"
   ]
  },
  {
   "cell_type": "markdown",
   "id": "01278cf4",
   "metadata": {
    "id": "01278cf4"
   },
   "source": [
    "#### Caixa de Horas"
   ]
  },
  {
   "cell_type": "code",
   "execution_count": 217,
   "id": "c544b868",
   "metadata": {
    "id": "c544b868"
   },
   "outputs": [],
   "source": [
    "navegador.find_element(By.XPATH, '/html/body/form/input[17]').send_keys('19:16')\n"
   ]
  },
  {
   "cell_type": "markdown",
   "id": "df88623c",
   "metadata": {
    "id": "df88623c"
   },
   "source": [
    "#### Caixa de Data Personalizada (Semanal)"
   ]
  },
  {
   "cell_type": "code",
   "execution_count": 218,
   "id": "4f8e85c5",
   "metadata": {
    "id": "4f8e85c5"
   },
   "outputs": [],
   "source": [
    "navegador.find_element(By.XPATH, '/html/body/form/input[18]').send_keys('37/1993')\n"
   ]
  },
  {
   "cell_type": "markdown",
   "id": "1d279ff1",
   "metadata": {
    "id": "1d279ff1"
   },
   "source": [
    "#### Blocos de texto (enviar valor)"
   ]
  },
  {
   "cell_type": "code",
   "execution_count": 219,
   "id": "356ccab3",
   "metadata": {
    "id": "356ccab3"
   },
   "outputs": [],
   "source": [
    "navegador.find_element(By.XPATH, '//*[@id=\"story\"]').clear()\n",
    "navegador.find_element(By.XPATH, '//*[@id=\"story\"]').send_keys('Olá\\nPodemos saltar as linhas usando \\\\n\\nou podemos usar o comando Keys', Keys.ENTER,'como pode ser visto\\nnesse código')"
   ]
  },
  {
   "cell_type": "markdown",
   "id": "8c24068f",
   "metadata": {
    "id": "8c24068f"
   },
   "source": [
    "#### Selecionando itens de uma lista"
   ]
  },
  {
   "cell_type": "code",
   "execution_count": 220,
   "id": "10888231",
   "metadata": {
    "id": "10888231"
   },
   "outputs": [],
   "source": [
    "        # OPÇÃO 1\n",
    "\n",
    "navegador.find_element(By.XPATH, '/html/body/form/select[1]').send_keys('A')\n",
    "\n",
    "# nem sempre o send_keys vai funcionar nesse tipo de opção"
   ]
  },
  {
   "cell_type": "code",
   "execution_count": 221,
   "id": "b8d705fb",
   "metadata": {},
   "outputs": [],
   "source": [
    "        # OPÇÃO 2\n",
    "\n",
    "import time\n",
    "\n",
    "navegador.find_element(By.XPATH, '/html/body/form/select[1]').click() # clica para aparecer a lista\n",
    "time.sleep(1.0)\n",
    "navegador.find_element(By.XPATH, '/html/body/form/select[1]/option[3]').click() # clica para escolher o item\n",
    "navegador.find_element(By.XPATH, '/html/body/form/select[1]').click() # clica pra fechar a lista"
   ]
  },
  {
   "cell_type": "code",
   "execution_count": 222,
   "id": "fa3f5c38",
   "metadata": {},
   "outputs": [],
   "source": [
    "        # OPÇÃO 3\n",
    "from selenium.webdriver.support.select import Select\n",
    "\n",
    "elemento = navegador.find_element(By.TAG_NAME, 'select')\n",
    "elemento_select = Select(elemento)\n",
    "\n",
    "elemento_select.select_by_index(2) # seleciona de acordo com o índice\n",
    "elemento_select.select_by_value('b') # seleciona de acordo com o valor do código\n",
    "elemento_select.select_by_visible_text('A') #seleciona de acordo com o texto visível\n"
   ]
  }
 ],
 "metadata": {
  "colab": {
   "name": "Preenchendo Formularios- Arquivo Inicial.ipynb",
   "provenance": []
  },
  "kernelspec": {
   "display_name": "Python 3 (ipykernel)",
   "language": "python",
   "name": "python3"
  },
  "language_info": {
   "codemirror_mode": {
    "name": "ipython",
    "version": 3
   },
   "file_extension": ".py",
   "mimetype": "text/x-python",
   "name": "python",
   "nbconvert_exporter": "python",
   "pygments_lexer": "ipython3",
   "version": "3.9.7"
  }
 },
 "nbformat": 4,
 "nbformat_minor": 5
}
