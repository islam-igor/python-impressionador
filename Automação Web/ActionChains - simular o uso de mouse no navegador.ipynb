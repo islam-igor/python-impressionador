{
 "cells": [
  {
   "cell_type": "markdown",
   "id": "367cd714",
   "metadata": {},
   "source": [
    "### Documentação Selenium:\n",
    "\n",
    "- https://selenium-python.readthedocs.io/locating-elements.html"
   ]
  },
  {
   "cell_type": "code",
   "execution_count": 1,
   "id": "4e28f9f7",
   "metadata": {},
   "outputs": [
    {
     "name": "stdout",
     "output_type": "stream",
     "text": [
      "\n"
     ]
    },
    {
     "name": "stderr",
     "output_type": "stream",
     "text": [
      "[WDM] - ====== WebDriver manager ======\n",
      "[WDM] - Current google-chrome version is 102.0.5005\n",
      "[WDM] - Get LATEST chromedriver version for 102.0.5005 google-chrome\n",
      "[WDM] - Driver [C:\\Users\\islam\\.wdm\\drivers\\chromedriver\\win32\\102.0.5005.61\\chromedriver.exe] found in cache\n"
     ]
    }
   ],
   "source": [
    "from selenium import webdriver\n",
    "from selenium.webdriver.chrome.service import Service\n",
    "from webdriver_manager.chrome import ChromeDriverManager\n",
    "from selenium.webdriver.common.by import By\n",
    "\n",
    "servico = Service(ChromeDriverManager().install())\n",
    "navegador = webdriver.Chrome(service=servico)"
   ]
  },
  {
   "cell_type": "code",
   "execution_count": 2,
   "id": "59c8398d",
   "metadata": {},
   "outputs": [],
   "source": [
    "navegador.get(\"https://www.hashtagtreinamentos.com/todos-os-cursos\")"
   ]
  },
  {
   "cell_type": "markdown",
   "id": "7d964ce5",
   "metadata": {},
   "source": [
    "#### Dropdown diferente em um site real"
   ]
  },
  {
   "cell_type": "markdown",
   "id": "8c4a9135",
   "metadata": {},
   "source": [
    "Em alguns sites, haverão botões que aparecem apenas depois de alguma intereção, por exemplo. \n",
    "Nesse site da Hashtag temos logo acima da baixa um botão com \"Outros Cursos\", quando posicionado o mouse em cima, aparece uma lista com outros cursos da Hashtag.\n",
    "\n",
    "Caso queira entrar no link de um desses cursos, não teria como apenas clicar nele, pois antes disso haveria a necessidade de passar o mouse no botão OUTROS CURSOS.\n",
    "\n",
    "Com a funcionalidade de inspecionar, e navegando dentro de 'Outros Cursos' encontra-se uma lista (li) , ao analisar, encontra-se o elemento da pagina responsável por direcionar para a página de destino (CURSO DE SQL)\n",
    "    \n",
    "Copiando o XPATH e usando o comando click não haverá resultados, pois o botão ainda não é interagível.\n",
    "    \n",
    "Portanto o comando : navegador.find_element(By.XPATH, '//*[@id=\"menu-item-17042\"]/a').click()  não funcionará."
   ]
  },
  {
   "cell_type": "code",
   "execution_count": 6,
   "id": "fde61189",
   "metadata": {},
   "outputs": [],
   "source": [
    "# Uma alternativa para entrar no Link, seria obter o link pelo href e utilizar no navegador\n",
    "\n",
    "link = navegador.find_element(By.XPATH, '//*[@id=\"menu-item-17042\"]/a').get_attribute('href')\n",
    "\n",
    "navegador.get(link)"
   ]
  },
  {
   "cell_type": "markdown",
   "id": "bd8bf4d0",
   "metadata": {},
   "source": [
    "# PORÉM!\n",
    "\n",
    "Não é todos os sites que terão uma organização adequada com o Link no href ou com uma forma fácil ou prática de identificar onde se encontra o link, sendo assim:\n",
    "\n",
    "### Uma outra Alternativa:\n",
    "     É utilizar uma ferrmaneta que vai simular o mouse, fazendo que possam haver interações de colocar a seta do mouse em cima, arrastar, e afins."
   ]
  },
  {
   "cell_type": "markdown",
   "id": "80f18fcd",
   "metadata": {},
   "source": [
    "### ActionChains\n",
    "\n",
    "Link com a referência: https://www.selenium.dev/pt-br/documentation/webdriver/actions_api/mouse/"
   ]
  },
  {
   "cell_type": "code",
   "execution_count": 9,
   "id": "dbac0005",
   "metadata": {},
   "outputs": [],
   "source": [
    "from selenium.webdriver import ActionChains\n",
    "\n",
    "menu = navegador.find_element(By.XPATH, '//*[@id=\"menu-item-dropdown-16313\"]')  # menu onde queremos deixar o mouse em cima\n",
    "item = navegador.find_element(By.XPATH, '//*[@id=\"menu-item-17042\"]/a') # local onde clicamos para abrir o link desejado\n",
    "\n",
    "# colocar o mouse em cima do menu\n",
    "ActionChains(navegador).move_to_element(menu).perform()\n",
    "    # ação simulada de um mouse(dentro do navegador).movimentar ate o elemento(qual elemento ele ficara em cima)\n",
    "        # .perform() é o método utilizado para ele 'performar'/fazer/executar a ação\n",
    "\n",
    "# clicar no item\n",
    "item.click()\n"
   ]
  }
 ],
 "metadata": {
  "kernelspec": {
   "display_name": "Python 3 (ipykernel)",
   "language": "python",
   "name": "python3"
  },
  "language_info": {
   "codemirror_mode": {
    "name": "ipython",
    "version": 3
   },
   "file_extension": ".py",
   "mimetype": "text/x-python",
   "name": "python",
   "nbconvert_exporter": "python",
   "pygments_lexer": "ipython3",
   "version": "3.9.7"
  }
 },
 "nbformat": 4,
 "nbformat_minor": 5
}
