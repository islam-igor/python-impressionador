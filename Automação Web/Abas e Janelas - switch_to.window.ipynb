{
 "cells": [
  {
   "cell_type": "markdown",
   "id": "367cd714",
   "metadata": {
    "id": "367cd714"
   },
   "source": [
    "### Documentação Selenium:\n",
    "\n",
    "- https://selenium-python.readthedocs.io/locating-elements.html"
   ]
  },
  {
   "cell_type": "code",
   "execution_count": 33,
   "id": "4e28f9f7",
   "metadata": {
    "id": "4e28f9f7"
   },
   "outputs": [
    {
     "name": "stdout",
     "output_type": "stream",
     "text": [
      "\n"
     ]
    },
    {
     "name": "stderr",
     "output_type": "stream",
     "text": [
      "[WDM] - ====== WebDriver manager ======\n",
      "[WDM] - Current google-chrome version is 102.0.5005\n",
      "[WDM] - Get LATEST chromedriver version for 102.0.5005 google-chrome\n",
      "[WDM] - Driver [C:\\Users\\islam\\.wdm\\drivers\\chromedriver\\win32\\102.0.5005.61\\chromedriver.exe] found in cache\n"
     ]
    }
   ],
   "source": [
    "from selenium import webdriver\n",
    "from selenium.webdriver.chrome.service import Service\n",
    "from webdriver_manager.chrome import ChromeDriverManager\n",
    "from selenium.webdriver.common.by import By\n",
    "\n",
    "servico = Service(ChromeDriverManager().install())\n",
    "navegador = webdriver.Chrome(service=servico)"
   ]
  },
  {
   "cell_type": "code",
   "execution_count": 34,
   "id": "59c8398d",
   "metadata": {
    "id": "59c8398d"
   },
   "outputs": [],
   "source": [
    "navegador.get('https://www.hashtagtreinamentos.com/todos-os-cursos')"
   ]
  },
  {
   "cell_type": "markdown",
   "id": "1a0d1ae6",
   "metadata": {
    "id": "1a0d1ae6"
   },
   "source": [
    "#### Botão que abre outra janela"
   ]
  },
  {
   "cell_type": "code",
   "execution_count": 35,
   "id": "d90ab797",
   "metadata": {
    "id": "d90ab797"
   },
   "outputs": [],
   "source": [
    "navegador.find_element(By.XPATH, '/html/body/section[2]/div/div[6]/figure/a/img').click()"
   ]
  },
  {
   "cell_type": "markdown",
   "id": "80f18fcd",
   "metadata": {
    "id": "80f18fcd"
   },
   "source": [
    "### Outra aba"
   ]
  },
  {
   "cell_type": "code",
   "execution_count": 36,
   "id": "80d8ecac",
   "metadata": {
    "id": "80d8ecac"
   },
   "outputs": [
    {
     "ename": "IndexError",
     "evalue": "list index out of range",
     "output_type": "error",
     "traceback": [
      "\u001b[1;31m---------------------------------------------------------------------------\u001b[0m",
      "\u001b[1;31mIndexError\u001b[0m                                Traceback (most recent call last)",
      "\u001b[1;32m~\\AppData\\Local\\Temp/ipykernel_10904/3367783591.py\u001b[0m in \u001b[0;36m<module>\u001b[1;34m\u001b[0m\n\u001b[0;32m      2\u001b[0m \u001b[1;31m# é necessário pedir para o selenium mudar de aba\u001b[0m\u001b[1;33m\u001b[0m\u001b[1;33m\u001b[0m\u001b[0m\n\u001b[0;32m      3\u001b[0m \u001b[0maba_original\u001b[0m \u001b[1;33m=\u001b[0m \u001b[0mnavegador\u001b[0m\u001b[1;33m.\u001b[0m\u001b[0mwindow_handles\u001b[0m\u001b[1;33m[\u001b[0m\u001b[1;36m0\u001b[0m\u001b[1;33m]\u001b[0m\u001b[1;33m\u001b[0m\u001b[1;33m\u001b[0m\u001b[0m\n\u001b[1;32m----> 4\u001b[1;33m \u001b[0mnova_aba\u001b[0m \u001b[1;33m=\u001b[0m \u001b[0mnavegador\u001b[0m\u001b[1;33m.\u001b[0m\u001b[0mwindow_handles\u001b[0m\u001b[1;33m[\u001b[0m\u001b[1;36m1\u001b[0m\u001b[1;33m]\u001b[0m\u001b[1;33m\u001b[0m\u001b[1;33m\u001b[0m\u001b[0m\n\u001b[0m\u001b[0;32m      5\u001b[0m \u001b[1;33m\u001b[0m\u001b[0m\n\u001b[0;32m      6\u001b[0m \u001b[0mnavegador\u001b[0m\u001b[1;33m.\u001b[0m\u001b[0mswitch_to\u001b[0m\u001b[1;33m.\u001b[0m\u001b[0mwindow\u001b[0m\u001b[1;33m(\u001b[0m\u001b[0mnova_aba\u001b[0m\u001b[1;33m)\u001b[0m\u001b[1;33m\u001b[0m\u001b[1;33m\u001b[0m\u001b[0m\n",
      "\u001b[1;31mIndexError\u001b[0m: list index out of range"
     ]
    }
   ],
   "source": [
    "# o link abriu uma nova aba, caso você tente encontrar algum item, ele vai buscar na primeira página\n",
    "# é necessário pedir para o selenium mudar de aba\n",
    "aba_original = navegador.window_handles[0]\n",
    "nova_aba = navegador.window_handles[1]\n",
    "\n",
    "navegador.switch_to.window(nova_aba)\n",
    "navegador.find_element(By.XPATH, '//*[@id=\"_form_1155_\"]/div[1]/div[1]/div/input').send_keys('Islam')"
   ]
  },
  {
   "cell_type": "code",
   "execution_count": null,
   "id": "dbac0005",
   "metadata": {
    "id": "dbac0005"
   },
   "outputs": [],
   "source": [
    "# ver os titulos das abas abertas\n",
    "for aba in navegador.window_handles:\n",
    "    navegador.switch_to.window(aba)\n",
    "    print(navegador.title)"
   ]
  },
  {
   "cell_type": "markdown",
   "id": "16053597",
   "metadata": {
    "id": "16053597"
   },
   "source": [
    "### Outra janela"
   ]
  },
  {
   "cell_type": "code",
   "execution_count": null,
   "id": "f79746e1",
   "metadata": {
    "id": "f79746e1"
   },
   "outputs": [],
   "source": [
    "# a janela é considerado apenas outra aba\n",
    "\n",
    "for aba in navegador.window_handles:\n",
    "    navegador.switch_to.window(aba)\n",
    "    print(navegador.title)\n",
    "\n"
   ]
  },
  {
   "cell_type": "code",
   "execution_count": null,
   "id": "4e2212e6",
   "metadata": {},
   "outputs": [],
   "source": [
    "navegador.close() # fecha a aba específica\n"
   ]
  },
  {
   "cell_type": "code",
   "execution_count": null,
   "id": "4c16c648",
   "metadata": {},
   "outputs": [],
   "source": [
    "navegador.quit() # fecha tudo"
   ]
  }
 ],
 "metadata": {
  "colab": {
   "name": "Abas e Janelas-Arquivo Inicial.ipynb",
   "provenance": []
  },
  "kernelspec": {
   "display_name": "Python 3 (ipykernel)",
   "language": "python",
   "name": "python3"
  },
  "language_info": {
   "codemirror_mode": {
    "name": "ipython",
    "version": 3
   },
   "file_extension": ".py",
   "mimetype": "text/x-python",
   "name": "python",
   "nbconvert_exporter": "python",
   "pygments_lexer": "ipython3",
   "version": "3.9.7"
  }
 },
 "nbformat": 4,
 "nbformat_minor": 5
}
