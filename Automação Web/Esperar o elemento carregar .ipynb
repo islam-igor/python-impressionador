{
 "cells": [
  {
   "cell_type": "markdown",
   "id": "e6fa5871",
   "metadata": {},
   "source": [
    "### Esperar o Elemento carregar\n",
    "\n",
    "2 métodos:\n",
    "\n",
    "- WebDriverWait + ExpectedConditions (EC)\n",
    "    - Nativo do Selenium, menos linhas de código\n",
    "    - Já vi dar bug e mais chatinho de lembrar\n",
    "- Loop de espera\n",
    "    - Criação de uma espera \"manual\"\n",
    "    - Nunca abandona"
   ]
  },
  {
   "cell_type": "code",
   "execution_count": 5,
   "id": "a240da55",
   "metadata": {},
   "outputs": [],
   "source": [
    "from selenium import webdriver\n",
    "\n",
    "navegador = webdriver.Chrome()\n",
    "navegador.get(\"https://hashtagtreinamentos.com\")\n"
   ]
  },
  {
   "cell_type": "code",
   "execution_count": 12,
   "id": "13792b7b",
   "metadata": {},
   "outputs": [
    {
     "name": "stderr",
     "output_type": "stream",
     "text": [
      "C:\\Users\\islam\\AppData\\Local\\Temp/ipykernel_16064/4231710888.py:2: DeprecationWarning: find_element_by_class_name is deprecated. Please use find_element(by=By.CLASS_NAME, value=name) instead\n",
      "  navegador.find_element_by_class_name('eicon-close').click()\n"
     ]
    }
   ],
   "source": [
    "\n",
    "navegador.find_element_by_class_name('eicon-close').click() #clicar no botao de fechar do Pop-UP"
   ]
  },
  {
   "cell_type": "markdown",
   "id": "f79686e2",
   "metadata": {},
   "source": [
    "O Site da Hashtag só abre o Pop_Up de anúnico dele depois de alguns segundos, \n",
    "Quando roda o código , ele não esperar o POPUP abrir para poder executar o click no botão de fechar, para que isso ocorra, deve-se utilizados outro código.\n",
    "\n"
   ]
  },
  {
   "cell_type": "code",
   "execution_count": 23,
   "id": "15e2a2a8",
   "metadata": {},
   "outputs": [
    {
     "name": "stdout",
     "output_type": "stream",
     "text": [
      "fechou\n"
     ]
    },
    {
     "name": "stderr",
     "output_type": "stream",
     "text": [
      "C:\\Users\\islam\\AppData\\Local\\Temp/ipykernel_16064/3348048148.py:8: DeprecationWarning: find_element_by_class_name is deprecated. Please use find_element(by=By.CLASS_NAME, value=name) instead\n",
      "  navegador.find_element_by_class_name('eicon-close').click()\n"
     ]
    }
   ],
   "source": [
    "# a solução mais simples seria pedir para aguardar alguns segundo até o momento do click\n",
    "from selenium import webdriver\n",
    "import time\n",
    "\n",
    "navegador = webdriver.Chrome()\n",
    "navegador.get(\"https://hashtagtreinamentos.com\")\n",
    "time.sleep(15)\n",
    "navegador.find_element_by_class_name('eicon-close').click()\n",
    "print('fechou')\n",
    "# CONTRA : nem sempre saberemos a quantidade de tempo exata, podendo deixar o código mais lento que o normal\n",
    "# ou em caso de execução prévia, dará ERROR"
   ]
  },
  {
   "cell_type": "code",
   "execution_count": 4,
   "id": "35662b1e",
   "metadata": {},
   "outputs": [
    {
     "name": "stdout",
     "output_type": "stream",
     "text": [
      "fechou\n"
     ]
    }
   ],
   "source": [
    "# WebDriverWait e EC\n",
    "from selenium.webdriver.common.by import By\n",
    "from selenium.webdriver.support.ui import WebDriverWait\n",
    "from selenium.webdriver.support import expected_conditions as EC\n",
    "import time\n",
    "\n",
    "navegador.get(\"https://hashtagtreinamentos.com\")\n",
    "\n",
    "elemento = WebDriverWait(navegador, 30).until(EC.presence_of_element_located((By.CLASS_NAME, 'eicon-close')))\n",
    "time.sleep(1)\n",
    "elemento.click()\n",
    "#navegador.find_element_by_class_name('eicon-close')\n",
    "    # o que eu quero interagir ( no caso = X da pagina)\n",
    "    # o nunmero depois do driver, é o tempo máximo de esperar para executar esse codigo\n",
    "print('fechou')"
   ]
  },
  {
   "cell_type": "code",
   "execution_count": 9,
   "id": "6f1e5e7c",
   "metadata": {},
   "outputs": [
    {
     "name": "stderr",
     "output_type": "stream",
     "text": [
      "C:\\Users\\islam\\AppData\\Local\\Temp/ipykernel_15596/1648271645.py:5: DeprecationWarning: find_elements_by_class_name is deprecated. Please use find_elements(by=By.CLASS_NAME, value=name) instead\n",
      "  while len(navegador.find_elements_by_class_name(\"eicon-close\")) == 0:\n"
     ]
    },
    {
     "name": "stdout",
     "output_type": "stream",
     "text": [
      "Fechou\n"
     ]
    },
    {
     "name": "stderr",
     "output_type": "stream",
     "text": [
      "C:\\Users\\islam\\AppData\\Local\\Temp/ipykernel_15596/1648271645.py:8: DeprecationWarning: find_element_by_class_name is deprecated. Please use find_element(by=By.CLASS_NAME, value=name) instead\n",
      "  navegador.find_element_by_class_name(\"eicon-close\").click()\n"
     ]
    }
   ],
   "source": [
    "# loop\n",
    "\n",
    "navegador.get(\"https://hashtagtreinamentos.com\")\n",
    "\n",
    "while len(navegador.find_elements_by_class_name(\"eicon-close\")) == 0:\n",
    "    time.sleep(1)\n",
    "time.sleep(1)\n",
    "navegador.find_element_by_class_name(\"eicon-close\").click()\n",
    "\n",
    "print(\"Fechou\")"
   ]
  }
 ],
 "metadata": {
  "kernelspec": {
   "display_name": "Python 3 (ipykernel)",
   "language": "python",
   "name": "python3"
  },
  "language_info": {
   "codemirror_mode": {
    "name": "ipython",
    "version": 3
   },
   "file_extension": ".py",
   "mimetype": "text/x-python",
   "name": "python",
   "nbconvert_exporter": "python",
   "pygments_lexer": "ipython3",
   "version": "3.9.7"
  }
 },
 "nbformat": 4,
 "nbformat_minor": 5
}
