{
 "cells": [
  {
   "cell_type": "markdown",
   "metadata": {
    "id": "FsfJ3uv0bKTg"
   },
   "source": [
    "# Python para executável em programas mais complexos\n",
    "\n",
    "### Objetivo:\n",
    "\n",
    "Muitas vezes nossos códigos puxam informações de outros arquivos ou, no caso de webscraping, usam outros arquivos como o chromedriver.exe para funcionar.\n",
    "\n",
    "Nesses casos, precisamos não só tomar alguns cuidados, mas também adaptar o nosso código para funcionar.\n",
    "\n",
    "### O que usaremos:\n",
    "\n",
    "- auto-py-to-exe para transformar o arquivo python em executável\n",
    "- pathlib ou os para adaptar todos os \"caminhos dos arquivos\"\n",
    "- Alternativamente, podemos usar o tkinter para permitir a gente escolher manualmente o arquivo, independente do computador que vamos rodar o programa\n",
    "\n",
    "Vamos ver como isso funciona na prática\n",
    "\n",
    "# Docstring do Código\n",
    "\n",
    "Esse código entra em 2 canais do youtube que tem o link dentro de um arquivo csv utilizando o selenium (chromedrive).\n",
    "\n",
    "Ao abrir a primeira página, o selenium dar scroll até o final da página para carregar todos os vídeos e depois copia todos os links, em seguida vai ao segundo canal e repete o processo.\n",
    "\n",
    "Após todo os links copiados é gerado um novo arquivo CSV com todos os links copiados.\n",
    "\n",
    "# Problemas a serem solucionado\n",
    "\n",
    " - Para abrir o arquivo CSV que tem os links dos canais, é necessário passar o diretório de onde esse arquivo se encontra, e em cada computador terá um diretório diferente.\n",
    "\n",
    " - O processo de utilizar o Selenium é preciso que o chromedrive esteja devidamente instalado no computador, sendo necessário encontar uma forma de solucionar esse problema.\n",
    " \n",
    " - Por fim, terá que ser salvo o arquivo no computador com os links .\n"
   ]
  },
  {
   "cell_type": "markdown",
   "metadata": {
    "id": "QM9knig0b3mD"
   },
   "source": [
    "### Vamos rodar com um exemplo que temos na hashtag. Como pegar os links de vídeos do youtube\n",
    "\n"
   ]
  },
  {
   "cell_type": "markdown",
   "metadata": {
    "id": "dhwWRsVecDdr"
   },
   "source": [
    "### Importações"
   ]
  },
  {
   "cell_type": "code",
   "execution_count": 5,
   "metadata": {},
   "outputs": [],
   "source": [
    "#importar bibliotecas\n",
    "import time, urllib\n",
    "from IPython.display import display\n",
    "from selenium import webdriver \n",
    "import pandas as pd \n",
    "import numpy as np\n",
    "from selenium.webdriver.common.by import By \n",
    "from selenium.webdriver.support.ui import WebDriverWait \n",
    "from selenium.webdriver.support import expected_conditions as EC\n",
    "from selenium.webdriver.common.keys import Keys\n",
    "from selenium.common.exceptions import StaleElementReferenceException\n",
    "from tkinter import *\n",
    "import tkinter.filedialog\n",
    "from tkinter import messagebox"
   ]
  },
  {
   "cell_type": "markdown",
   "metadata": {},
   "source": [
    "### Pegando o arquivo em Excel do nosso computador "
   ]
  },
  {
   "cell_type": "markdown",
   "metadata": {},
   "source": [
    "#### Opção 1:\n",
    "\n",
    "**A primeira opção seria trocar o diretório e deixar apenas o nome do arquivo**\n",
    "\n",
    "buscas_df = pd.read_csv(r'~~C:\\Users\\alonp\\Downloads~~\\Canais Youtube.csv', encoding = 'ISO-8859-1', sep=';')\n",
    "display(buscas_df.head())\n",
    "\n",
    "\n",
    "buscas_df = pd.read_csv(r'Canais Youtube.csv', encoding = 'ISO-8859-1', sep=';')\n",
    "display(buscas_df.head())\n",
    "\n",
    "\n",
    "**P.S.: Essa opção exige que o arquivo CSV esteja na mesma pasta que seu código/executável.**"
   ]
  },
  {
   "cell_type": "markdown",
   "metadata": {},
   "source": [
    "#### Opção 2:\n",
    "\n",
    "**A segunda opção seria ultilizar a biblioteca OS, pra pegar o caminho que onde o código está rodando**\n",
    "\n",
    "\n",
    "import os\n",
    "\n",
    "caminho = os.getcwd()\n",
    "\n",
    "\n",
    "buscas_df = pd.read_csv(r'~~C:\\Users\\alonp\\Downloads~~\\Canais Youtube.csv', encoding = 'ISO-8859-1', sep=';')\n",
    "display(buscas_df.head())\n",
    "\n",
    "\n",
    "buscas_df = pd.read_csv(os.join(caminho, r'Canais Youtube.csv'), encoding = 'ISO-8859-1', sep=';')\n",
    "display(buscas_df.head())\n",
    "\n",
    "\n",
    "**P.S.: Essa opção exige que o arquivo CSV esteja na mesma pasta que seu código/executável ou em um outra pasta que você possa especificar o caminho\n",
    "\n",
    "\n",
    "Ou seja, ainda haveria a exigência de o arquivo está dentro de um local conhecido"
   ]
  },
  {
   "cell_type": "markdown",
   "metadata": {},
   "source": [
    "### Opção 3:\n",
    "\n",
    "**A terceira opção consiste em fazer com que o usuário escolha qual o arquivo deve ser lido**\n",
    " \n",
    "Para utilizar essa função usa-se a biblioteca **'tkinter'**\n",
    "\n",
    "Dessa forma o Usuário pode escolher o arquivo que deseja fazer a leitura dos canais e prosseguir com o código"
   ]
  },
  {
   "cell_type": "code",
   "execution_count": 9,
   "metadata": {},
   "outputs": [
    {
     "data": {
      "text/html": [
       "<div>\n",
       "<style scoped>\n",
       "    .dataframe tbody tr th:only-of-type {\n",
       "        vertical-align: middle;\n",
       "    }\n",
       "\n",
       "    .dataframe tbody tr th {\n",
       "        vertical-align: top;\n",
       "    }\n",
       "\n",
       "    .dataframe thead th {\n",
       "        text-align: right;\n",
       "    }\n",
       "</style>\n",
       "<table border=\"1\" class=\"dataframe\">\n",
       "  <thead>\n",
       "    <tr style=\"text-align: right;\">\n",
       "      <th></th>\n",
       "      <th>Canais</th>\n",
       "    </tr>\n",
       "  </thead>\n",
       "  <tbody>\n",
       "    <tr>\n",
       "      <th>0</th>\n",
       "      <td>https://www.youtube.com/channel/UCw0leRmeaX7R_...</td>\n",
       "    </tr>\n",
       "    <tr>\n",
       "      <th>1</th>\n",
       "      <td>https://www.youtube.com/user/ninjadoexcel</td>\n",
       "    </tr>\n",
       "  </tbody>\n",
       "</table>\n",
       "</div>"
      ],
      "text/plain": [
       "                                              Canais\n",
       "0  https://www.youtube.com/channel/UCw0leRmeaX7R_...\n",
       "1          https://www.youtube.com/user/ninjadoexcel"
      ]
     },
     "metadata": {},
     "output_type": "display_data"
    }
   ],
   "source": [
    "#ler csv\n",
    "root= Tk()    # abre a janela do TKINTER\n",
    "arquivo = tkinter.filedialog.askopenfilename(title = \"Selecione o Arquivo csv com Canais e Keywords\") \n",
    "            # Abre a janela para selecionar o arquivo que deseja e armazena o local na variável 'arquivo'\n",
    "root.destroy()   # fecha a janela do TKINTER\n",
    "\n",
    "buscas_df = pd.read_csv(arquivo, encoding = 'utf-8', sep=';')  \n",
    "            # faz a leitura baseada no diretório que o usuárioe escolheu\n",
    "display(buscas_df.head())"
   ]
  },
  {
   "cell_type": "markdown",
   "metadata": {},
   "source": [
    "### Pegandos os links no youtube "
   ]
  },
  {
   "cell_type": "code",
   "execution_count": 24,
   "metadata": {},
   "outputs": [
    {
     "ename": "KeyboardInterrupt",
     "evalue": "",
     "output_type": "error",
     "traceback": [
      "\u001b[1;31m---------------------------------------------------------------------------\u001b[0m",
      "\u001b[1;31mKeyboardInterrupt\u001b[0m                         Traceback (most recent call last)",
      "\u001b[1;32m~\\AppData\\Local\\Temp/ipykernel_16308/1940531855.py\u001b[0m in \u001b[0;36m<module>\u001b[1;34m\u001b[0m\n\u001b[0;32m     21\u001b[0m             \u001b[0maltura\u001b[0m \u001b[1;33m=\u001b[0m \u001b[0mdriver\u001b[0m\u001b[1;33m.\u001b[0m\u001b[0mexecute_script\u001b[0m\u001b[1;33m(\u001b[0m\u001b[1;34m\"return document.documentElement.scrollHeight\"\u001b[0m\u001b[1;33m)\u001b[0m\u001b[1;33m\u001b[0m\u001b[1;33m\u001b[0m\u001b[0m\n\u001b[0;32m     22\u001b[0m             \u001b[0mdriver\u001b[0m\u001b[1;33m.\u001b[0m\u001b[0mexecute_script\u001b[0m\u001b[1;33m(\u001b[0m\u001b[1;34m\"window.scrollTo(0, \"\u001b[0m \u001b[1;33m+\u001b[0m \u001b[0mstr\u001b[0m\u001b[1;33m(\u001b[0m\u001b[0maltura\u001b[0m\u001b[1;33m)\u001b[0m \u001b[1;33m+\u001b[0m \u001b[1;34m\");\"\u001b[0m\u001b[1;33m)\u001b[0m\u001b[1;33m\u001b[0m\u001b[1;33m\u001b[0m\u001b[0m\n\u001b[1;32m---> 23\u001b[1;33m             \u001b[0mtime\u001b[0m\u001b[1;33m.\u001b[0m\u001b[0msleep\u001b[0m\u001b[1;33m(\u001b[0m\u001b[1;36m3\u001b[0m\u001b[1;33m)\u001b[0m\u001b[1;33m\u001b[0m\u001b[1;33m\u001b[0m\u001b[0m\n\u001b[0m\u001b[0;32m     24\u001b[0m             \u001b[0mnova_altura\u001b[0m \u001b[1;33m=\u001b[0m \u001b[0mdriver\u001b[0m\u001b[1;33m.\u001b[0m\u001b[0mexecute_script\u001b[0m\u001b[1;33m(\u001b[0m\u001b[1;34m\"return document.documentElement.scrollHeight\"\u001b[0m\u001b[1;33m)\u001b[0m\u001b[1;33m\u001b[0m\u001b[1;33m\u001b[0m\u001b[0m\n\u001b[0;32m     25\u001b[0m     \u001b[0mvideos\u001b[0m \u001b[1;33m=\u001b[0m \u001b[0mdriver\u001b[0m\u001b[1;33m.\u001b[0m\u001b[0mfind_elements\u001b[0m\u001b[1;33m(\u001b[0m\u001b[0mBy\u001b[0m\u001b[1;33m.\u001b[0m\u001b[0mID\u001b[0m\u001b[1;33m,\u001b[0m \u001b[1;34m'thumbnail'\u001b[0m\u001b[1;33m)\u001b[0m\u001b[1;33m\u001b[0m\u001b[1;33m\u001b[0m\u001b[0m\n",
      "\u001b[1;31mKeyboardInterrupt\u001b[0m: "
     ]
    }
   ],
   "source": [
    "buscas_canais = buscas_df['Canais'].unique()\n",
    "# ler videos de todas as buscas\n",
    "driver = webdriver.Chrome() \n",
    "\n",
    "hrefs = []\n",
    "delay = 5\n",
    " \n",
    "# pegando os itens dos canais\n",
    "for canal in buscas_canais:\n",
    "    if canal is np.nan:\n",
    "        break\n",
    "    hrefs.append(canal)\n",
    "    driver.get(canal)\n",
    "    myElem = WebDriverWait(driver, delay).until(EC.presence_of_element_located((By.CLASS_NAME, 'tp-yt-paper-tab')))\n",
    "    time.sleep(2)\n",
    "    tab = driver.find_elements(By.CLASS_NAME, 'tp-yt-paper-tab')[1].click()\n",
    "    time.sleep(2)\n",
    "    altura = 0\n",
    "    nova_altura = 1\n",
    "    while nova_altura > altura:\n",
    "            altura = driver.execute_script(\"return document.documentElement.scrollHeight\")\n",
    "            driver.execute_script(\"window.scrollTo(0, \" + str(altura) + \");\")\n",
    "            time.sleep(3)\n",
    "            nova_altura = driver.execute_script(\"return document.documentElement.scrollHeight\")\n",
    "    videos = driver.find_elements(By.ID, 'thumbnail')\n",
    "    try:\n",
    "        for video in videos:\n",
    "            meu_link = video.get_attribute('href')\n",
    "            if meu_link:\n",
    "                if not 'googleadservices' in meu_link: \n",
    "                    hrefs.append(meu_link)\n",
    "    except StaleElementReferenceException:\n",
    "        time.sleep(2)\n",
    "        videos = driver.find_elements(By.ID, 'thumbnail')\n",
    "        for video in videos:\n",
    "            meu_link = video.get_attribute('href')\n",
    "            if meu_link:\n",
    "                if not 'googleadservices' in meu_link: \n",
    "                    hrefs.append(meu_link)\n",
    "    print('Pegamos {} vídeos do Canal {}'.format(len(videos), canal))\n",
    "\n",
    "driver.quit()"
   ]
  },
  {
   "cell_type": "markdown",
   "metadata": {},
   "source": [
    "### Gerando arquivo final "
   ]
  },
  {
   "cell_type": "code",
   "execution_count": null,
   "metadata": {},
   "outputs": [],
   "source": [
    "#salvando o resultado em um csv\n",
    "hrefs_df = pd.DataFrame(hrefs)\n",
    "hrefs_df.to_csv(r'Canais Prontos.csv', sep=',', encoding='utf-8')\n",
    "\n",
    "\n",
    "# Exibindo uma mensagem de finalização do processo do programa \n",
    "root= Tk()\n",
    "messagebox.showinfo(\"Programa Finalizado com Sucesso\", \"Seu arquivo csv foi gerado com sucesso na pasta do Programa\")\n",
    "root.destroy()"
   ]
  }
 ],
 "metadata": {
  "colab": {
   "authorship_tag": "ABX9TyNdHDDm3VOhRC+ZQ9GcaSka",
   "name": "Python para exe 04.ipynb",
   "provenance": []
  },
  "kernelspec": {
   "display_name": "Python 3 (ipykernel)",
   "language": "python",
   "name": "python3"
  },
  "language_info": {
   "codemirror_mode": {
    "name": "ipython",
    "version": 3
   },
   "file_extension": ".py",
   "mimetype": "text/x-python",
   "name": "python",
   "nbconvert_exporter": "python",
   "pygments_lexer": "ipython3",
   "version": "3.9.7"
  }
 },
 "nbformat": 4,
 "nbformat_minor": 1
}
