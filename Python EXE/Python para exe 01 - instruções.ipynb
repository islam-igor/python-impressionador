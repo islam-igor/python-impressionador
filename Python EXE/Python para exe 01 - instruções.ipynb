{
 "cells": [
  {
   "cell_type": "markdown",
   "metadata": {
    "id": "MfeU3To_RWmK"
   },
   "source": [
    "# Transformando Códigos em Python para Executáveis\n",
    "\n",
    "### Objetivo:\n",
    "\n",
    "Os arquivos do jupyter que temos até aqui no curso são scripts que podemos usar para rodar códigos e fazer diversas tarefas.\n",
    "\n",
    "Mas, algumas vezes, não seremos nós que iremos rodar os códigos e também não necessariamente o computador que vai executar o código não necessariamente tem python instalado.\n",
    "\n",
    "Por isso, podemos transformar esses códigos em arquivos .exe (executáveis que funcionam em qualquer computador).\n",
    "\n",
    "### Cuidados\n",
    "\n",
    "Para códigos simples, basta fazermos a conversão de python para executável, mas em muitos códigos, temos que pensar se precisamos fazer alguma adaptação.\n",
    "\n",
    "Ex: Se o nosso código abre algum arquivo do nosso computador, temos que tornar essa ação de abrir o arquivo algo que funcione em qualquer computador. \n",
    "\n",
    "Sempre precisamos olhar o código e pensar: ele funcionaria em qualquer computador? Tem alguma coisa aqui nele que impede de funcionar no computador de outro pessoa? Se necessário, fazemos as adaptações. Vamos aprender como.\n",
    "\n",
    "### Funcionamento:\n",
    "\n",
    "- Passo 1 - Seu código deve estar funcionando sem erros no jupyter\n",
    "\n",
    "- Passo 2 - Transformar o código jupyter em scripts python padrão (extensão .py). Seu código deve estar funcionando nesse formato também.\n",
    "\n",
    "- Passo 3 - Usar uma biblioteca de conversão (pyinstaller ou auto-py-to-exe) para transformar o código em executável.\n",
    "\n",
    "- Passo 4 - Testar e adaptar o que for necessário."
   ]
  },
  {
   "cell_type": "markdown",
   "metadata": {
    "id": "qa-9IZHYRRiC"
   },
   "source": [
    "# Python para exe com códigos simples\n",
    "\n",
    "### Códigos que não interagem com outros arquivos ou ferramentas do computador\n",
    "\n",
    "Usaremos a biblioteca pyinstaller\n",
    "\n",
    "- Passo 1 - Instalar o pyinstaller\n",
    "\n",
    "- Passo 2 - Executar o pyinstaller\n",
    "\n",
    "pyinstaller -w nome_do_programa.py         -- > utilizar esse comando no cmd do anaconda"
   ]
  },
  {
   "cell_type": "code",
   "execution_count": 6,
   "metadata": {},
   "outputs": [
    {
     "name": "stdout",
     "output_type": "stream",
     "text": [
      "SM9fe98b87d17e48c3837519c500a4d574\n"
     ]
    }
   ],
   "source": [
    "#rodar o código de um programa que fazemos durante o curso que funcione. Exemplo o do outlook de enviar email\n",
    "from twilio.rest import Client\n",
    "\n",
    "account_sid = 'ACf3011255d1965af7f0220aed9cd21cb9'\n",
    "auth_token  = 'c73bbdeb57b018f958356cfcc71b2a49'\n",
    "\n",
    "client = Client(account_sid, auth_token)\n",
    "\n",
    "message = client.messages.create(\n",
    "    to=\"+5586999550910\", # destino\n",
    "    from_=\"+19033296989\", # remetente\n",
    "    body=\"Oi, Islam, aqui você digita a sua mensagem\")\n",
    "\n",
    "print(message.sid)"
   ]
  },
  {
   "cell_type": "markdown",
   "metadata": {},
   "source": [
    "### Atenção no resultado\n",
    "\n",
    "Repare que o programa final vai ficar extremamente pesado.\n",
    "\n",
    "Isso porque o pyinstaller vai incluir todas as bibliotecas que temos instaladas no programa final, para garantir que ele vai funcionar.\n",
    "\n",
    "Para evitar isso, precisaremos criar um ambiente virtual exclusivo para esse programa, vamos ver na prática como funciona na próxima aula"
   ]
  },
  {
   "cell_type": "markdown",
   "metadata": {},
   "source": [
    "### Observações Úteis\n",
    "\n",
    "- Se o nome do seu arquivo .py tiver mais de uma palavra, na hora de testar, coloque o nome dele entre aspas duplas.<br>Ex:  python \"Gabarito - SMS.py\"\n",
    "- Se o seu antivírus verificar o pyinstaller, não precisa se preocupar, é normal e tá tudo certo\n",
    "- Provavelmente a 1ª vez que você rodar o seu programa, o antivírus vai verificar ele também\n",
    "- A pasta dist é o que pode ser distribuído. Você pode compactar ela em um zip e mandar para quem você quiser"
   ]
  },
  {
   "cell_type": "markdown",
   "metadata": {},
   "source": [
    "# Diminuindo o tamanho do executável final - Ambiente Virtual\n",
    "\n",
    "### Objetivo\n",
    "\n",
    "Para diminuir o tamanho do arquivo a ser distribuído no final, vamos criar um ambiente virtual para garantir que teremos apenas as bibliotecas importantes.\n",
    "\n",
    "- Passo 1: Garantir que o código está funcionando\n",
    "- Passo 2: Criar o ambiente virtual\n",
    "- Passo 3: Executar o nosso código por dentro do ambiente virtual\n",
    "- Passo 4: Identificar erros e instalar bibliotecas que faltam, apenas as que o programa pede.\n",
    "- Passo 5: Instalar o pyinstaller e transformar em executável o programa Python"
   ]
  }
 ],
 "metadata": {
  "colab": {
   "authorship_tag": "ABX9TyPeZh4N6T9omHTUJgNKHM+o",
   "name": "Python para exe 01.ipynb",
   "provenance": []
  },
  "kernelspec": {
   "display_name": "Python 3 (ipykernel)",
   "language": "python",
   "name": "python3"
  },
  "language_info": {
   "codemirror_mode": {
    "name": "ipython",
    "version": 3
   },
   "file_extension": ".py",
   "mimetype": "text/x-python",
   "name": "python",
   "nbconvert_exporter": "python",
   "pygments_lexer": "ipython3",
   "version": "3.9.12"
  }
 },
 "nbformat": 4,
 "nbformat_minor": 1
}
